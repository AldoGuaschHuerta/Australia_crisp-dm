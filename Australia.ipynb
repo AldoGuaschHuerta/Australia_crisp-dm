{
  "nbformat": 4,
  "nbformat_minor": 0,
  "metadata": {
    "colab": {
      "name": "Australia.ipynb",
      "provenance": [],
      "collapsed_sections": [],
      "toc_visible": true
    },
    "kernelspec": {
      "name": "python3",
      "display_name": "Python 3"
    },
    "language_info": {
      "name": "python"
    }
  },
  "cells": [
    {
      "cell_type": "markdown",
      "source": [
        "# Metodología CRISP-DM\n",
        "\n",
        "Fase de la metodología:\n",
        "\n",
        "\n",
        "*   Fase I. Business Understanding. Definición de necesidades del cliente (comprensión del negocio)\n",
        "\n",
        "\n",
        "*   Fase II. Data Understanding. Estudio y comprensión de los datos\n",
        "\n",
        "* Fase III. Data Preparation. Análisis de los datos y selección de características\n",
        "\n",
        "* Fase IV. Modeling. Modelado\n",
        "\n",
        "* Fase V. Evaluation. Evaluación (obtención de resultados)\n",
        "\n",
        "* Fase VI. Deployment. Despliegue (puesta en producción)\n",
        "\n",
        "En esta ocasión, llegaremos hasta la fase V."
      ],
      "metadata": {
        "id": "n-NpBIyaA9qc"
      }
    },
    {
      "cell_type": "markdown",
      "source": [
        "# Business Understanding\n",
        "\n",
        "En esta primera etapa, Entenderemos el negocio y un resumen de los objetivos a conseguir.\n",
        "\n",
        "Dado a que Australia se trata de un país seco, la gran cantidad de las ciudades del territorio sufren de sequía o en el mejor de los casos de precipitaciones moderadas, contando en general con inviernos ligeros y veranos cálidos, dado a estas condiciones del país se buscan maneras de aprovechar las precipitaciones por escasas que sean, por lo que se nos ha solicitado realizar un análisis de datos para realizar predicciones con la minería de datos.\n",
        "\n",
        "Para esto se nos ha entregado un set de datos perteneciente a observaciones meteorológicas diarias de múltiples ubicaciones en Australia, obtenidas de la Oficina de Meteorología de Commonwealth en Australia y estas fueron procesadas para crear este conjunto de datos de muestra, entre los datos procesados se ha proporcionado una variable objetivo llamada RainTomorrow y esta se divide entre resultados No/Si para indicar que si habrá lluvia el día del registro adicionalmente, existe una variable de riesgo nombrada RISK_MM que indica la lluvia registrada en milímetros. Todos estos datos se encuentran en un archivo CSV que utilizaremos para extraer y desplegar dicha información en un proyecto de minería con Jupyter.\n",
        "\n",
        "Como objetivo debemos utilizar estos datos que se nos han entregado para poder crear un modelo capaz de predecir en qué lugares de Australia habrán lluvias en los próximos días, para dar paso a esto llevaremos a cabo esta primera etapa en la que ordenaremos los datos que nos han entregado mediante la carga, integración y limpieza de estos haciéndolos más legibles para el cliente, llevando esto a cabo en las siguientes etapas que son la Comprensión de los datos y su Preparación.\n",
        "\n",
        "\n"
      ],
      "metadata": {
        "id": "OyZjfjxRhZ0u"
      }
    },
    {
      "cell_type": "markdown",
      "source": [
        "# Data Understanding\n",
        "\n",
        "En esta segunda etapa, ahondaremos más en los datos propiamente para lograr un análisis correcto.\n",
        "\n",
        "Acciones a realizar: \n",
        "\n",
        "1. Análisis del Dataset Entregado\n",
        "2. Carga del DataSet\n",
        "3. Información preliminar de los datos\n",
        "4. Dimensiones del DataSet\n",
        "5. Tipos de datos del DataSet\n",
        "6. Análisis por agrupaciones.\n",
        "7. Análisis por estructura del dataSet.\n",
        "8. Datos nulos dentro del Dataset\n",
        "9. Estadísticas generales\n",
        "10. Exploración de los datos de forma Gráfica.\n",
        "\n"
      ],
      "metadata": {
        "id": "Fe-sGNaXha9p"
      }
    },
    {
      "cell_type": "code",
      "source": [
        "#Importamos la librería de Pandas\n",
        "import pandas as pd\n",
        "import datetime"
      ],
      "metadata": {
        "id": "EWO2Xgeawz1s"
      },
      "execution_count": null,
      "outputs": []
    },
    {
      "cell_type": "code",
      "source": [
        "##Colocamos la ruta del drive en una variable para luego pasarlo a un dataframe.\n",
        "url = 'https://raw.githubusercontent.com/AldoGuaschHuerta/Australia_crisp-dm/main/weatherAUS.csv'\n",
        "df = pd.read_csv(url, sep=';', decimal= '.')"
      ],
      "metadata": {
        "id": "eC2nfGfLwQaF",
        "colab": {
          "base_uri": "https://localhost:8080/"
        },
        "outputId": "8d556769-8640-45b1-f8f4-3499bbad42ab"
      },
      "execution_count": null,
      "outputs": [
        {
          "output_type": "stream",
          "name": "stderr",
          "text": [
            "/usr/local/lib/python3.7/dist-packages/IPython/core/interactiveshell.py:2882: DtypeWarning: Columns (15) have mixed types.Specify dtype option on import or set low_memory=False.\n",
            "  exec(code_obj, self.user_global_ns, self.user_ns)\n"
          ]
        }
      ]
    },
    {
      "cell_type": "code",
      "source": [
        "#Dimensiones del DataSet\n",
        "df.shape"
      ],
      "metadata": {
        "colab": {
          "base_uri": "https://localhost:8080/"
        },
        "id": "EMFxKiourWco",
        "outputId": "473581e7-0aad-4055-ca9a-e362aceac7ff"
      },
      "execution_count": null,
      "outputs": [
        {
          "output_type": "execute_result",
          "data": {
            "text/plain": [
              "(142193, 24)"
            ]
          },
          "metadata": {},
          "execution_count": 3
        }
      ]
    },
    {
      "cell_type": "code",
      "source": [
        "#Tipos de datos del DataSet\n",
        "df.dtypes"
      ],
      "metadata": {
        "colab": {
          "base_uri": "https://localhost:8080/"
        },
        "id": "PIKkN2bQrwJr",
        "outputId": "c6251c94-118f-47fd-af27-5f23ca0e0111"
      },
      "execution_count": null,
      "outputs": [
        {
          "output_type": "execute_result",
          "data": {
            "text/plain": [
              "Date              object\n",
              "Location          object\n",
              "MinTemp          float64\n",
              "MaxTemp          float64\n",
              "Rainfall         float64\n",
              "Evaporation      float64\n",
              "Sunshine         float64\n",
              "WindGustDir       object\n",
              "WindGustSpeed    float64\n",
              "WindDir9am        object\n",
              "WindDir3pm        object\n",
              "WindSpeed9am     float64\n",
              "WindSpeed3pm     float64\n",
              "Humidity9am      float64\n",
              "Humidity3pm      float64\n",
              "Pressure9am       object\n",
              "Pressure3pm       object\n",
              "Cloud9am         float64\n",
              "Cloud3pm         float64\n",
              "Temp9am          float64\n",
              "Temp3pm          float64\n",
              "RainToday         object\n",
              "RISK_MM          float64\n",
              "RainTomorrow      object\n",
              "dtype: object"
            ]
          },
          "metadata": {},
          "execution_count": 4
        }
      ]
    },
    {
      "cell_type": "code",
      "source": [
        "#Información preliminar de los datos\n",
        "df.info()"
      ],
      "metadata": {
        "colab": {
          "base_uri": "https://localhost:8080/"
        },
        "id": "aBRNwyghr4Oe",
        "outputId": "3cfb9e02-8185-4146-ed52-470288ece573"
      },
      "execution_count": null,
      "outputs": [
        {
          "output_type": "stream",
          "name": "stdout",
          "text": [
            "<class 'pandas.core.frame.DataFrame'>\n",
            "RangeIndex: 142193 entries, 0 to 142192\n",
            "Data columns (total 24 columns):\n",
            " #   Column         Non-Null Count   Dtype  \n",
            "---  ------         --------------   -----  \n",
            " 0   Date           142193 non-null  object \n",
            " 1   Location       142193 non-null  object \n",
            " 2   MinTemp        141556 non-null  float64\n",
            " 3   MaxTemp        141871 non-null  float64\n",
            " 4   Rainfall       140787 non-null  float64\n",
            " 5   Evaporation    81350 non-null   float64\n",
            " 6   Sunshine       74377 non-null   float64\n",
            " 7   WindGustDir    132863 non-null  object \n",
            " 8   WindGustSpeed  132923 non-null  float64\n",
            " 9   WindDir9am     132180 non-null  object \n",
            " 10  WindDir3pm     138415 non-null  object \n",
            " 11  WindSpeed9am   140845 non-null  float64\n",
            " 12  WindSpeed3pm   139563 non-null  float64\n",
            " 13  Humidity9am    140419 non-null  float64\n",
            " 14  Humidity3pm    138583 non-null  float64\n",
            " 15  Pressure9am    128179 non-null  object \n",
            " 16  Pressure3pm    128212 non-null  object \n",
            " 17  Cloud9am       88536 non-null   float64\n",
            " 18  Cloud3pm       85099 non-null   float64\n",
            " 19  Temp9am        141289 non-null  float64\n",
            " 20  Temp3pm        139467 non-null  float64\n",
            " 21  RainToday      140787 non-null  object \n",
            " 22  RISK_MM        142193 non-null  float64\n",
            " 23  RainTomorrow   142193 non-null  object \n",
            "dtypes: float64(15), object(9)\n",
            "memory usage: 26.0+ MB\n"
          ]
        }
      ]
    },
    {
      "cell_type": "code",
      "source": [
        "#analisis por estructura del dataSet\n",
        "#los 5 primeros registros se visualizan con head()\n",
        "df.head()"
      ],
      "metadata": {
        "colab": {
          "base_uri": "https://localhost:8080/",
          "height": 386
        },
        "id": "U3yZ4GD_r6sz",
        "outputId": "c4435118-8aab-429e-f574-4c5f84b82030"
      },
      "execution_count": null,
      "outputs": [
        {
          "output_type": "execute_result",
          "data": {
            "text/plain": [
              "         Date Location  MinTemp  MaxTemp  Rainfall  Evaporation  Sunshine  \\\n",
              "0  2008-12-01   Albury     13.4     22.9       0.6          NaN       NaN   \n",
              "1  2008-12-02   Albury      7.4     25.1       0.0          NaN       NaN   \n",
              "2  2008-12-03   Albury     12.9     25.7       0.0          NaN       NaN   \n",
              "3  2008-12-04   Albury      9.2     28.0       0.0          NaN       NaN   \n",
              "4  2008-12-05   Albury     17.5     32.3       1.0          NaN       NaN   \n",
              "\n",
              "  WindGustDir  WindGustSpeed WindDir9am  ... Humidity3pm  Pressure9am  \\\n",
              "0           W           44.0          W  ...        22.0       1007.7   \n",
              "1         WNW           44.0        NNW  ...        25.0       1010.6   \n",
              "2         WSW           46.0          W  ...        30.0       1007.6   \n",
              "3          NE           24.0         SE  ...        16.0       1017.6   \n",
              "4           W           41.0        ENE  ...        33.0       1010.8   \n",
              "\n",
              "   Pressure3pm  Cloud9am  Cloud3pm Temp9am Temp3pm  RainToday  RISK_MM  \\\n",
              "0       1007.1       8.0       NaN    16.9    21.8         No      0.0   \n",
              "1       1007.8       NaN       NaN    17.2    24.3         No      0.0   \n",
              "2       1008.7       NaN       2.0    21.0    23.2         No      0.0   \n",
              "3       1012.8       NaN       NaN    18.1    26.5         No      1.0   \n",
              "4         1006       7.0       8.0    17.8    29.7         No      0.2   \n",
              "\n",
              "   RainTomorrow  \n",
              "0            No  \n",
              "1            No  \n",
              "2            No  \n",
              "3            No  \n",
              "4            No  \n",
              "\n",
              "[5 rows x 24 columns]"
            ],
            "text/html": [
              "\n",
              "  <div id=\"df-abf6dbc2-6c93-40ac-9d25-9aa473a8be3b\">\n",
              "    <div class=\"colab-df-container\">\n",
              "      <div>\n",
              "<style scoped>\n",
              "    .dataframe tbody tr th:only-of-type {\n",
              "        vertical-align: middle;\n",
              "    }\n",
              "\n",
              "    .dataframe tbody tr th {\n",
              "        vertical-align: top;\n",
              "    }\n",
              "\n",
              "    .dataframe thead th {\n",
              "        text-align: right;\n",
              "    }\n",
              "</style>\n",
              "<table border=\"1\" class=\"dataframe\">\n",
              "  <thead>\n",
              "    <tr style=\"text-align: right;\">\n",
              "      <th></th>\n",
              "      <th>Date</th>\n",
              "      <th>Location</th>\n",
              "      <th>MinTemp</th>\n",
              "      <th>MaxTemp</th>\n",
              "      <th>Rainfall</th>\n",
              "      <th>Evaporation</th>\n",
              "      <th>Sunshine</th>\n",
              "      <th>WindGustDir</th>\n",
              "      <th>WindGustSpeed</th>\n",
              "      <th>WindDir9am</th>\n",
              "      <th>...</th>\n",
              "      <th>Humidity3pm</th>\n",
              "      <th>Pressure9am</th>\n",
              "      <th>Pressure3pm</th>\n",
              "      <th>Cloud9am</th>\n",
              "      <th>Cloud3pm</th>\n",
              "      <th>Temp9am</th>\n",
              "      <th>Temp3pm</th>\n",
              "      <th>RainToday</th>\n",
              "      <th>RISK_MM</th>\n",
              "      <th>RainTomorrow</th>\n",
              "    </tr>\n",
              "  </thead>\n",
              "  <tbody>\n",
              "    <tr>\n",
              "      <th>0</th>\n",
              "      <td>2008-12-01</td>\n",
              "      <td>Albury</td>\n",
              "      <td>13.4</td>\n",
              "      <td>22.9</td>\n",
              "      <td>0.6</td>\n",
              "      <td>NaN</td>\n",
              "      <td>NaN</td>\n",
              "      <td>W</td>\n",
              "      <td>44.0</td>\n",
              "      <td>W</td>\n",
              "      <td>...</td>\n",
              "      <td>22.0</td>\n",
              "      <td>1007.7</td>\n",
              "      <td>1007.1</td>\n",
              "      <td>8.0</td>\n",
              "      <td>NaN</td>\n",
              "      <td>16.9</td>\n",
              "      <td>21.8</td>\n",
              "      <td>No</td>\n",
              "      <td>0.0</td>\n",
              "      <td>No</td>\n",
              "    </tr>\n",
              "    <tr>\n",
              "      <th>1</th>\n",
              "      <td>2008-12-02</td>\n",
              "      <td>Albury</td>\n",
              "      <td>7.4</td>\n",
              "      <td>25.1</td>\n",
              "      <td>0.0</td>\n",
              "      <td>NaN</td>\n",
              "      <td>NaN</td>\n",
              "      <td>WNW</td>\n",
              "      <td>44.0</td>\n",
              "      <td>NNW</td>\n",
              "      <td>...</td>\n",
              "      <td>25.0</td>\n",
              "      <td>1010.6</td>\n",
              "      <td>1007.8</td>\n",
              "      <td>NaN</td>\n",
              "      <td>NaN</td>\n",
              "      <td>17.2</td>\n",
              "      <td>24.3</td>\n",
              "      <td>No</td>\n",
              "      <td>0.0</td>\n",
              "      <td>No</td>\n",
              "    </tr>\n",
              "    <tr>\n",
              "      <th>2</th>\n",
              "      <td>2008-12-03</td>\n",
              "      <td>Albury</td>\n",
              "      <td>12.9</td>\n",
              "      <td>25.7</td>\n",
              "      <td>0.0</td>\n",
              "      <td>NaN</td>\n",
              "      <td>NaN</td>\n",
              "      <td>WSW</td>\n",
              "      <td>46.0</td>\n",
              "      <td>W</td>\n",
              "      <td>...</td>\n",
              "      <td>30.0</td>\n",
              "      <td>1007.6</td>\n",
              "      <td>1008.7</td>\n",
              "      <td>NaN</td>\n",
              "      <td>2.0</td>\n",
              "      <td>21.0</td>\n",
              "      <td>23.2</td>\n",
              "      <td>No</td>\n",
              "      <td>0.0</td>\n",
              "      <td>No</td>\n",
              "    </tr>\n",
              "    <tr>\n",
              "      <th>3</th>\n",
              "      <td>2008-12-04</td>\n",
              "      <td>Albury</td>\n",
              "      <td>9.2</td>\n",
              "      <td>28.0</td>\n",
              "      <td>0.0</td>\n",
              "      <td>NaN</td>\n",
              "      <td>NaN</td>\n",
              "      <td>NE</td>\n",
              "      <td>24.0</td>\n",
              "      <td>SE</td>\n",
              "      <td>...</td>\n",
              "      <td>16.0</td>\n",
              "      <td>1017.6</td>\n",
              "      <td>1012.8</td>\n",
              "      <td>NaN</td>\n",
              "      <td>NaN</td>\n",
              "      <td>18.1</td>\n",
              "      <td>26.5</td>\n",
              "      <td>No</td>\n",
              "      <td>1.0</td>\n",
              "      <td>No</td>\n",
              "    </tr>\n",
              "    <tr>\n",
              "      <th>4</th>\n",
              "      <td>2008-12-05</td>\n",
              "      <td>Albury</td>\n",
              "      <td>17.5</td>\n",
              "      <td>32.3</td>\n",
              "      <td>1.0</td>\n",
              "      <td>NaN</td>\n",
              "      <td>NaN</td>\n",
              "      <td>W</td>\n",
              "      <td>41.0</td>\n",
              "      <td>ENE</td>\n",
              "      <td>...</td>\n",
              "      <td>33.0</td>\n",
              "      <td>1010.8</td>\n",
              "      <td>1006</td>\n",
              "      <td>7.0</td>\n",
              "      <td>8.0</td>\n",
              "      <td>17.8</td>\n",
              "      <td>29.7</td>\n",
              "      <td>No</td>\n",
              "      <td>0.2</td>\n",
              "      <td>No</td>\n",
              "    </tr>\n",
              "  </tbody>\n",
              "</table>\n",
              "<p>5 rows × 24 columns</p>\n",
              "</div>\n",
              "      <button class=\"colab-df-convert\" onclick=\"convertToInteractive('df-abf6dbc2-6c93-40ac-9d25-9aa473a8be3b')\"\n",
              "              title=\"Convert this dataframe to an interactive table.\"\n",
              "              style=\"display:none;\">\n",
              "        \n",
              "  <svg xmlns=\"http://www.w3.org/2000/svg\" height=\"24px\"viewBox=\"0 0 24 24\"\n",
              "       width=\"24px\">\n",
              "    <path d=\"M0 0h24v24H0V0z\" fill=\"none\"/>\n",
              "    <path d=\"M18.56 5.44l.94 2.06.94-2.06 2.06-.94-2.06-.94-.94-2.06-.94 2.06-2.06.94zm-11 1L8.5 8.5l.94-2.06 2.06-.94-2.06-.94L8.5 2.5l-.94 2.06-2.06.94zm10 10l.94 2.06.94-2.06 2.06-.94-2.06-.94-.94-2.06-.94 2.06-2.06.94z\"/><path d=\"M17.41 7.96l-1.37-1.37c-.4-.4-.92-.59-1.43-.59-.52 0-1.04.2-1.43.59L10.3 9.45l-7.72 7.72c-.78.78-.78 2.05 0 2.83L4 21.41c.39.39.9.59 1.41.59.51 0 1.02-.2 1.41-.59l7.78-7.78 2.81-2.81c.8-.78.8-2.07 0-2.86zM5.41 20L4 18.59l7.72-7.72 1.47 1.35L5.41 20z\"/>\n",
              "  </svg>\n",
              "      </button>\n",
              "      \n",
              "  <style>\n",
              "    .colab-df-container {\n",
              "      display:flex;\n",
              "      flex-wrap:wrap;\n",
              "      gap: 12px;\n",
              "    }\n",
              "\n",
              "    .colab-df-convert {\n",
              "      background-color: #E8F0FE;\n",
              "      border: none;\n",
              "      border-radius: 50%;\n",
              "      cursor: pointer;\n",
              "      display: none;\n",
              "      fill: #1967D2;\n",
              "      height: 32px;\n",
              "      padding: 0 0 0 0;\n",
              "      width: 32px;\n",
              "    }\n",
              "\n",
              "    .colab-df-convert:hover {\n",
              "      background-color: #E2EBFA;\n",
              "      box-shadow: 0px 1px 2px rgba(60, 64, 67, 0.3), 0px 1px 3px 1px rgba(60, 64, 67, 0.15);\n",
              "      fill: #174EA6;\n",
              "    }\n",
              "\n",
              "    [theme=dark] .colab-df-convert {\n",
              "      background-color: #3B4455;\n",
              "      fill: #D2E3FC;\n",
              "    }\n",
              "\n",
              "    [theme=dark] .colab-df-convert:hover {\n",
              "      background-color: #434B5C;\n",
              "      box-shadow: 0px 1px 3px 1px rgba(0, 0, 0, 0.15);\n",
              "      filter: drop-shadow(0px 1px 2px rgba(0, 0, 0, 0.3));\n",
              "      fill: #FFFFFF;\n",
              "    }\n",
              "  </style>\n",
              "\n",
              "      <script>\n",
              "        const buttonEl =\n",
              "          document.querySelector('#df-abf6dbc2-6c93-40ac-9d25-9aa473a8be3b button.colab-df-convert');\n",
              "        buttonEl.style.display =\n",
              "          google.colab.kernel.accessAllowed ? 'block' : 'none';\n",
              "\n",
              "        async function convertToInteractive(key) {\n",
              "          const element = document.querySelector('#df-abf6dbc2-6c93-40ac-9d25-9aa473a8be3b');\n",
              "          const dataTable =\n",
              "            await google.colab.kernel.invokeFunction('convertToInteractive',\n",
              "                                                     [key], {});\n",
              "          if (!dataTable) return;\n",
              "\n",
              "          const docLinkHtml = 'Like what you see? Visit the ' +\n",
              "            '<a target=\"_blank\" href=https://colab.research.google.com/notebooks/data_table.ipynb>data table notebook</a>'\n",
              "            + ' to learn more about interactive tables.';\n",
              "          element.innerHTML = '';\n",
              "          dataTable['output_type'] = 'display_data';\n",
              "          await google.colab.output.renderOutput(dataTable, element);\n",
              "          const docLink = document.createElement('div');\n",
              "          docLink.innerHTML = docLinkHtml;\n",
              "          element.appendChild(docLink);\n",
              "        }\n",
              "      </script>\n",
              "    </div>\n",
              "  </div>\n",
              "  "
            ]
          },
          "metadata": {},
          "execution_count": 6
        }
      ]
    },
    {
      "cell_type": "code",
      "source": [
        "#Los últimos 5 registros se visualizan con tail()\n",
        "df.tail()"
      ],
      "metadata": {
        "colab": {
          "base_uri": "https://localhost:8080/",
          "height": 386
        },
        "id": "NGOzk1QTsNfG",
        "outputId": "012b3d1f-bf9e-4929-f862-c54a6235b461"
      },
      "execution_count": null,
      "outputs": [
        {
          "output_type": "execute_result",
          "data": {
            "text/plain": [
              "              Date Location  MinTemp  MaxTemp  Rainfall  Evaporation  \\\n",
              "142188  2017-06-20    Uluru      3.5     21.8       0.0          NaN   \n",
              "142189  2017-06-21    Uluru      2.8     23.4       0.0          NaN   \n",
              "142190  2017-06-22    Uluru      3.6     25.3       0.0          NaN   \n",
              "142191  2017-06-23    Uluru      5.4     26.9       0.0          NaN   \n",
              "142192  2017-06-24    Uluru      7.8     27.0       0.0          NaN   \n",
              "\n",
              "        Sunshine WindGustDir  WindGustSpeed WindDir9am  ... Humidity3pm  \\\n",
              "142188       NaN           E           31.0        ESE  ...        27.0   \n",
              "142189       NaN           E           31.0         SE  ...        24.0   \n",
              "142190       NaN         NNW           22.0         SE  ...        21.0   \n",
              "142191       NaN           N           37.0         SE  ...        24.0   \n",
              "142192       NaN          SE           28.0        SSE  ...        24.0   \n",
              "\n",
              "        Pressure9am  Pressure3pm  Cloud9am  Cloud3pm Temp9am Temp3pm  \\\n",
              "142188       1024.7       1021.2       NaN       NaN     9.4    20.9   \n",
              "142189       1024.6       1020.3       NaN       NaN    10.1    22.4   \n",
              "142190       1023.5       1019.1       NaN       NaN    10.9    24.5   \n",
              "142191         1021       1016.8       NaN       NaN    12.5    26.1   \n",
              "142192       1019.4       1016.5       3.0       2.0    15.1    26.0   \n",
              "\n",
              "        RainToday  RISK_MM  RainTomorrow  \n",
              "142188         No      0.0            No  \n",
              "142189         No      0.0            No  \n",
              "142190         No      0.0            No  \n",
              "142191         No      0.0            No  \n",
              "142192         No      0.0            No  \n",
              "\n",
              "[5 rows x 24 columns]"
            ],
            "text/html": [
              "\n",
              "  <div id=\"df-62800359-951b-4a67-a688-f7e230785d9d\">\n",
              "    <div class=\"colab-df-container\">\n",
              "      <div>\n",
              "<style scoped>\n",
              "    .dataframe tbody tr th:only-of-type {\n",
              "        vertical-align: middle;\n",
              "    }\n",
              "\n",
              "    .dataframe tbody tr th {\n",
              "        vertical-align: top;\n",
              "    }\n",
              "\n",
              "    .dataframe thead th {\n",
              "        text-align: right;\n",
              "    }\n",
              "</style>\n",
              "<table border=\"1\" class=\"dataframe\">\n",
              "  <thead>\n",
              "    <tr style=\"text-align: right;\">\n",
              "      <th></th>\n",
              "      <th>Date</th>\n",
              "      <th>Location</th>\n",
              "      <th>MinTemp</th>\n",
              "      <th>MaxTemp</th>\n",
              "      <th>Rainfall</th>\n",
              "      <th>Evaporation</th>\n",
              "      <th>Sunshine</th>\n",
              "      <th>WindGustDir</th>\n",
              "      <th>WindGustSpeed</th>\n",
              "      <th>WindDir9am</th>\n",
              "      <th>...</th>\n",
              "      <th>Humidity3pm</th>\n",
              "      <th>Pressure9am</th>\n",
              "      <th>Pressure3pm</th>\n",
              "      <th>Cloud9am</th>\n",
              "      <th>Cloud3pm</th>\n",
              "      <th>Temp9am</th>\n",
              "      <th>Temp3pm</th>\n",
              "      <th>RainToday</th>\n",
              "      <th>RISK_MM</th>\n",
              "      <th>RainTomorrow</th>\n",
              "    </tr>\n",
              "  </thead>\n",
              "  <tbody>\n",
              "    <tr>\n",
              "      <th>142188</th>\n",
              "      <td>2017-06-20</td>\n",
              "      <td>Uluru</td>\n",
              "      <td>3.5</td>\n",
              "      <td>21.8</td>\n",
              "      <td>0.0</td>\n",
              "      <td>NaN</td>\n",
              "      <td>NaN</td>\n",
              "      <td>E</td>\n",
              "      <td>31.0</td>\n",
              "      <td>ESE</td>\n",
              "      <td>...</td>\n",
              "      <td>27.0</td>\n",
              "      <td>1024.7</td>\n",
              "      <td>1021.2</td>\n",
              "      <td>NaN</td>\n",
              "      <td>NaN</td>\n",
              "      <td>9.4</td>\n",
              "      <td>20.9</td>\n",
              "      <td>No</td>\n",
              "      <td>0.0</td>\n",
              "      <td>No</td>\n",
              "    </tr>\n",
              "    <tr>\n",
              "      <th>142189</th>\n",
              "      <td>2017-06-21</td>\n",
              "      <td>Uluru</td>\n",
              "      <td>2.8</td>\n",
              "      <td>23.4</td>\n",
              "      <td>0.0</td>\n",
              "      <td>NaN</td>\n",
              "      <td>NaN</td>\n",
              "      <td>E</td>\n",
              "      <td>31.0</td>\n",
              "      <td>SE</td>\n",
              "      <td>...</td>\n",
              "      <td>24.0</td>\n",
              "      <td>1024.6</td>\n",
              "      <td>1020.3</td>\n",
              "      <td>NaN</td>\n",
              "      <td>NaN</td>\n",
              "      <td>10.1</td>\n",
              "      <td>22.4</td>\n",
              "      <td>No</td>\n",
              "      <td>0.0</td>\n",
              "      <td>No</td>\n",
              "    </tr>\n",
              "    <tr>\n",
              "      <th>142190</th>\n",
              "      <td>2017-06-22</td>\n",
              "      <td>Uluru</td>\n",
              "      <td>3.6</td>\n",
              "      <td>25.3</td>\n",
              "      <td>0.0</td>\n",
              "      <td>NaN</td>\n",
              "      <td>NaN</td>\n",
              "      <td>NNW</td>\n",
              "      <td>22.0</td>\n",
              "      <td>SE</td>\n",
              "      <td>...</td>\n",
              "      <td>21.0</td>\n",
              "      <td>1023.5</td>\n",
              "      <td>1019.1</td>\n",
              "      <td>NaN</td>\n",
              "      <td>NaN</td>\n",
              "      <td>10.9</td>\n",
              "      <td>24.5</td>\n",
              "      <td>No</td>\n",
              "      <td>0.0</td>\n",
              "      <td>No</td>\n",
              "    </tr>\n",
              "    <tr>\n",
              "      <th>142191</th>\n",
              "      <td>2017-06-23</td>\n",
              "      <td>Uluru</td>\n",
              "      <td>5.4</td>\n",
              "      <td>26.9</td>\n",
              "      <td>0.0</td>\n",
              "      <td>NaN</td>\n",
              "      <td>NaN</td>\n",
              "      <td>N</td>\n",
              "      <td>37.0</td>\n",
              "      <td>SE</td>\n",
              "      <td>...</td>\n",
              "      <td>24.0</td>\n",
              "      <td>1021</td>\n",
              "      <td>1016.8</td>\n",
              "      <td>NaN</td>\n",
              "      <td>NaN</td>\n",
              "      <td>12.5</td>\n",
              "      <td>26.1</td>\n",
              "      <td>No</td>\n",
              "      <td>0.0</td>\n",
              "      <td>No</td>\n",
              "    </tr>\n",
              "    <tr>\n",
              "      <th>142192</th>\n",
              "      <td>2017-06-24</td>\n",
              "      <td>Uluru</td>\n",
              "      <td>7.8</td>\n",
              "      <td>27.0</td>\n",
              "      <td>0.0</td>\n",
              "      <td>NaN</td>\n",
              "      <td>NaN</td>\n",
              "      <td>SE</td>\n",
              "      <td>28.0</td>\n",
              "      <td>SSE</td>\n",
              "      <td>...</td>\n",
              "      <td>24.0</td>\n",
              "      <td>1019.4</td>\n",
              "      <td>1016.5</td>\n",
              "      <td>3.0</td>\n",
              "      <td>2.0</td>\n",
              "      <td>15.1</td>\n",
              "      <td>26.0</td>\n",
              "      <td>No</td>\n",
              "      <td>0.0</td>\n",
              "      <td>No</td>\n",
              "    </tr>\n",
              "  </tbody>\n",
              "</table>\n",
              "<p>5 rows × 24 columns</p>\n",
              "</div>\n",
              "      <button class=\"colab-df-convert\" onclick=\"convertToInteractive('df-62800359-951b-4a67-a688-f7e230785d9d')\"\n",
              "              title=\"Convert this dataframe to an interactive table.\"\n",
              "              style=\"display:none;\">\n",
              "        \n",
              "  <svg xmlns=\"http://www.w3.org/2000/svg\" height=\"24px\"viewBox=\"0 0 24 24\"\n",
              "       width=\"24px\">\n",
              "    <path d=\"M0 0h24v24H0V0z\" fill=\"none\"/>\n",
              "    <path d=\"M18.56 5.44l.94 2.06.94-2.06 2.06-.94-2.06-.94-.94-2.06-.94 2.06-2.06.94zm-11 1L8.5 8.5l.94-2.06 2.06-.94-2.06-.94L8.5 2.5l-.94 2.06-2.06.94zm10 10l.94 2.06.94-2.06 2.06-.94-2.06-.94-.94-2.06-.94 2.06-2.06.94z\"/><path d=\"M17.41 7.96l-1.37-1.37c-.4-.4-.92-.59-1.43-.59-.52 0-1.04.2-1.43.59L10.3 9.45l-7.72 7.72c-.78.78-.78 2.05 0 2.83L4 21.41c.39.39.9.59 1.41.59.51 0 1.02-.2 1.41-.59l7.78-7.78 2.81-2.81c.8-.78.8-2.07 0-2.86zM5.41 20L4 18.59l7.72-7.72 1.47 1.35L5.41 20z\"/>\n",
              "  </svg>\n",
              "      </button>\n",
              "      \n",
              "  <style>\n",
              "    .colab-df-container {\n",
              "      display:flex;\n",
              "      flex-wrap:wrap;\n",
              "      gap: 12px;\n",
              "    }\n",
              "\n",
              "    .colab-df-convert {\n",
              "      background-color: #E8F0FE;\n",
              "      border: none;\n",
              "      border-radius: 50%;\n",
              "      cursor: pointer;\n",
              "      display: none;\n",
              "      fill: #1967D2;\n",
              "      height: 32px;\n",
              "      padding: 0 0 0 0;\n",
              "      width: 32px;\n",
              "    }\n",
              "\n",
              "    .colab-df-convert:hover {\n",
              "      background-color: #E2EBFA;\n",
              "      box-shadow: 0px 1px 2px rgba(60, 64, 67, 0.3), 0px 1px 3px 1px rgba(60, 64, 67, 0.15);\n",
              "      fill: #174EA6;\n",
              "    }\n",
              "\n",
              "    [theme=dark] .colab-df-convert {\n",
              "      background-color: #3B4455;\n",
              "      fill: #D2E3FC;\n",
              "    }\n",
              "\n",
              "    [theme=dark] .colab-df-convert:hover {\n",
              "      background-color: #434B5C;\n",
              "      box-shadow: 0px 1px 3px 1px rgba(0, 0, 0, 0.15);\n",
              "      filter: drop-shadow(0px 1px 2px rgba(0, 0, 0, 0.3));\n",
              "      fill: #FFFFFF;\n",
              "    }\n",
              "  </style>\n",
              "\n",
              "      <script>\n",
              "        const buttonEl =\n",
              "          document.querySelector('#df-62800359-951b-4a67-a688-f7e230785d9d button.colab-df-convert');\n",
              "        buttonEl.style.display =\n",
              "          google.colab.kernel.accessAllowed ? 'block' : 'none';\n",
              "\n",
              "        async function convertToInteractive(key) {\n",
              "          const element = document.querySelector('#df-62800359-951b-4a67-a688-f7e230785d9d');\n",
              "          const dataTable =\n",
              "            await google.colab.kernel.invokeFunction('convertToInteractive',\n",
              "                                                     [key], {});\n",
              "          if (!dataTable) return;\n",
              "\n",
              "          const docLinkHtml = 'Like what you see? Visit the ' +\n",
              "            '<a target=\"_blank\" href=https://colab.research.google.com/notebooks/data_table.ipynb>data table notebook</a>'\n",
              "            + ' to learn more about interactive tables.';\n",
              "          element.innerHTML = '';\n",
              "          dataTable['output_type'] = 'display_data';\n",
              "          await google.colab.output.renderOutput(dataTable, element);\n",
              "          const docLink = document.createElement('div');\n",
              "          docLink.innerHTML = docLinkHtml;\n",
              "          element.appendChild(docLink);\n",
              "        }\n",
              "      </script>\n",
              "    </div>\n",
              "  </div>\n",
              "  "
            ]
          },
          "metadata": {},
          "execution_count": 7
        }
      ]
    },
    {
      "cell_type": "code",
      "source": [
        "#También se pueden ver registros aleatorios con Sample(x) donde x es la cantidad de ejemplos que queremos ver.\n",
        "df.sample(10)"
      ],
      "metadata": {
        "colab": {
          "base_uri": "https://localhost:8080/",
          "height": 630
        },
        "id": "k-D9YqPCsbvp",
        "outputId": "448b8643-d1bd-4c97-ee1e-10064bb8d0a8"
      },
      "execution_count": null,
      "outputs": [
        {
          "output_type": "execute_result",
          "data": {
            "text/plain": [
              "              Date      Location  MinTemp  MaxTemp  Rainfall  Evaporation  \\\n",
              "116979  2015-06-29  PerthAirport      9.9     23.5       0.0          2.0   \n",
              "1701    2013-11-14        Albury      8.2     21.5       0.0          NaN   \n",
              "38402   2016-04-06    WaggaWagga      8.9     33.2       0.0          7.2   \n",
              "14216   2016-01-10         Moree     18.2     34.7       0.0          NaN   \n",
              "20036   2015-11-21     NorahHead     20.1     22.0       0.0          NaN   \n",
              "67901   2016-09-20     Melbourne      9.1     18.8       0.0          2.6   \n",
              "51991   2012-09-10   MountGinini      2.5     11.1       0.0          NaN   \n",
              "41997   2010-09-23    Wollongong     12.7     18.8       2.6          NaN   \n",
              "84667   2016-12-15      Brisbane     19.0     30.6       0.0          NaN   \n",
              "32167   2015-08-29        Sydney      9.0     20.3       0.0          4.2   \n",
              "\n",
              "        Sunshine WindGustDir  WindGustSpeed WindDir9am  ... Humidity3pm  \\\n",
              "116979       9.1         ENE           35.0        ENE  ...        28.0   \n",
              "1701         NaN          SW           35.0          W  ...        48.0   \n",
              "38402        7.7         WSW           50.0          E  ...        13.0   \n",
              "14216        NaN          NE           30.0        NNE  ...        26.0   \n",
              "20036        NaN         SSW           50.0         SE  ...        73.0   \n",
              "67901       10.0         NNW           48.0          N  ...        45.0   \n",
              "51991        NaN           W           35.0         NW  ...        43.0   \n",
              "41997        NaN           S           41.0          S  ...        76.0   \n",
              "84667       12.9          NE           33.0        NNW  ...        52.0   \n",
              "32167       10.8         WSW           30.0          W  ...        31.0   \n",
              "\n",
              "        Pressure9am  Pressure3pm  Cloud9am  Cloud3pm Temp9am Temp3pm  \\\n",
              "116979       1025.9       1022.8       2.0       1.0    13.4    23.1   \n",
              "1701         1016.4       1014.9       5.0       7.0    14.4    19.7   \n",
              "38402        1014.9       1012.9       3.0       7.0    21.5    27.9   \n",
              "14216        1017.9       1014.8       NaN       1.0    25.3    33.5   \n",
              "20036        1015.2       1016.6       NaN       NaN    22.0    20.2   \n",
              "67901          1015       1012.4       1.0       5.0    14.6    17.9   \n",
              "51991           NaN          NaN       NaN       NaN     7.2    10.2   \n",
              "41997        1025.6         1023       8.0       8.0    15.5    15.8   \n",
              "84667        1013.2       1009.9       1.0       1.0    27.6    29.1   \n",
              "32167        1022.7       1017.9       1.0       2.0    13.0    20.1   \n",
              "\n",
              "        RainToday  RISK_MM  RainTomorrow  \n",
              "116979         No      0.0            No  \n",
              "1701           No      0.0            No  \n",
              "38402          No      0.0            No  \n",
              "14216          No      0.0            No  \n",
              "20036          No      0.2            No  \n",
              "67901          No      1.2           Yes  \n",
              "51991          No      0.0            No  \n",
              "41997         Yes      0.0            No  \n",
              "84667          No      0.0            No  \n",
              "32167          No      0.0            No  \n",
              "\n",
              "[10 rows x 24 columns]"
            ],
            "text/html": [
              "\n",
              "  <div id=\"df-9dc59b4d-092c-4041-bb94-5bc806c80a26\">\n",
              "    <div class=\"colab-df-container\">\n",
              "      <div>\n",
              "<style scoped>\n",
              "    .dataframe tbody tr th:only-of-type {\n",
              "        vertical-align: middle;\n",
              "    }\n",
              "\n",
              "    .dataframe tbody tr th {\n",
              "        vertical-align: top;\n",
              "    }\n",
              "\n",
              "    .dataframe thead th {\n",
              "        text-align: right;\n",
              "    }\n",
              "</style>\n",
              "<table border=\"1\" class=\"dataframe\">\n",
              "  <thead>\n",
              "    <tr style=\"text-align: right;\">\n",
              "      <th></th>\n",
              "      <th>Date</th>\n",
              "      <th>Location</th>\n",
              "      <th>MinTemp</th>\n",
              "      <th>MaxTemp</th>\n",
              "      <th>Rainfall</th>\n",
              "      <th>Evaporation</th>\n",
              "      <th>Sunshine</th>\n",
              "      <th>WindGustDir</th>\n",
              "      <th>WindGustSpeed</th>\n",
              "      <th>WindDir9am</th>\n",
              "      <th>...</th>\n",
              "      <th>Humidity3pm</th>\n",
              "      <th>Pressure9am</th>\n",
              "      <th>Pressure3pm</th>\n",
              "      <th>Cloud9am</th>\n",
              "      <th>Cloud3pm</th>\n",
              "      <th>Temp9am</th>\n",
              "      <th>Temp3pm</th>\n",
              "      <th>RainToday</th>\n",
              "      <th>RISK_MM</th>\n",
              "      <th>RainTomorrow</th>\n",
              "    </tr>\n",
              "  </thead>\n",
              "  <tbody>\n",
              "    <tr>\n",
              "      <th>116979</th>\n",
              "      <td>2015-06-29</td>\n",
              "      <td>PerthAirport</td>\n",
              "      <td>9.9</td>\n",
              "      <td>23.5</td>\n",
              "      <td>0.0</td>\n",
              "      <td>2.0</td>\n",
              "      <td>9.1</td>\n",
              "      <td>ENE</td>\n",
              "      <td>35.0</td>\n",
              "      <td>ENE</td>\n",
              "      <td>...</td>\n",
              "      <td>28.0</td>\n",
              "      <td>1025.9</td>\n",
              "      <td>1022.8</td>\n",
              "      <td>2.0</td>\n",
              "      <td>1.0</td>\n",
              "      <td>13.4</td>\n",
              "      <td>23.1</td>\n",
              "      <td>No</td>\n",
              "      <td>0.0</td>\n",
              "      <td>No</td>\n",
              "    </tr>\n",
              "    <tr>\n",
              "      <th>1701</th>\n",
              "      <td>2013-11-14</td>\n",
              "      <td>Albury</td>\n",
              "      <td>8.2</td>\n",
              "      <td>21.5</td>\n",
              "      <td>0.0</td>\n",
              "      <td>NaN</td>\n",
              "      <td>NaN</td>\n",
              "      <td>SW</td>\n",
              "      <td>35.0</td>\n",
              "      <td>W</td>\n",
              "      <td>...</td>\n",
              "      <td>48.0</td>\n",
              "      <td>1016.4</td>\n",
              "      <td>1014.9</td>\n",
              "      <td>5.0</td>\n",
              "      <td>7.0</td>\n",
              "      <td>14.4</td>\n",
              "      <td>19.7</td>\n",
              "      <td>No</td>\n",
              "      <td>0.0</td>\n",
              "      <td>No</td>\n",
              "    </tr>\n",
              "    <tr>\n",
              "      <th>38402</th>\n",
              "      <td>2016-04-06</td>\n",
              "      <td>WaggaWagga</td>\n",
              "      <td>8.9</td>\n",
              "      <td>33.2</td>\n",
              "      <td>0.0</td>\n",
              "      <td>7.2</td>\n",
              "      <td>7.7</td>\n",
              "      <td>WSW</td>\n",
              "      <td>50.0</td>\n",
              "      <td>E</td>\n",
              "      <td>...</td>\n",
              "      <td>13.0</td>\n",
              "      <td>1014.9</td>\n",
              "      <td>1012.9</td>\n",
              "      <td>3.0</td>\n",
              "      <td>7.0</td>\n",
              "      <td>21.5</td>\n",
              "      <td>27.9</td>\n",
              "      <td>No</td>\n",
              "      <td>0.0</td>\n",
              "      <td>No</td>\n",
              "    </tr>\n",
              "    <tr>\n",
              "      <th>14216</th>\n",
              "      <td>2016-01-10</td>\n",
              "      <td>Moree</td>\n",
              "      <td>18.2</td>\n",
              "      <td>34.7</td>\n",
              "      <td>0.0</td>\n",
              "      <td>NaN</td>\n",
              "      <td>NaN</td>\n",
              "      <td>NE</td>\n",
              "      <td>30.0</td>\n",
              "      <td>NNE</td>\n",
              "      <td>...</td>\n",
              "      <td>26.0</td>\n",
              "      <td>1017.9</td>\n",
              "      <td>1014.8</td>\n",
              "      <td>NaN</td>\n",
              "      <td>1.0</td>\n",
              "      <td>25.3</td>\n",
              "      <td>33.5</td>\n",
              "      <td>No</td>\n",
              "      <td>0.0</td>\n",
              "      <td>No</td>\n",
              "    </tr>\n",
              "    <tr>\n",
              "      <th>20036</th>\n",
              "      <td>2015-11-21</td>\n",
              "      <td>NorahHead</td>\n",
              "      <td>20.1</td>\n",
              "      <td>22.0</td>\n",
              "      <td>0.0</td>\n",
              "      <td>NaN</td>\n",
              "      <td>NaN</td>\n",
              "      <td>SSW</td>\n",
              "      <td>50.0</td>\n",
              "      <td>SE</td>\n",
              "      <td>...</td>\n",
              "      <td>73.0</td>\n",
              "      <td>1015.2</td>\n",
              "      <td>1016.6</td>\n",
              "      <td>NaN</td>\n",
              "      <td>NaN</td>\n",
              "      <td>22.0</td>\n",
              "      <td>20.2</td>\n",
              "      <td>No</td>\n",
              "      <td>0.2</td>\n",
              "      <td>No</td>\n",
              "    </tr>\n",
              "    <tr>\n",
              "      <th>67901</th>\n",
              "      <td>2016-09-20</td>\n",
              "      <td>Melbourne</td>\n",
              "      <td>9.1</td>\n",
              "      <td>18.8</td>\n",
              "      <td>0.0</td>\n",
              "      <td>2.6</td>\n",
              "      <td>10.0</td>\n",
              "      <td>NNW</td>\n",
              "      <td>48.0</td>\n",
              "      <td>N</td>\n",
              "      <td>...</td>\n",
              "      <td>45.0</td>\n",
              "      <td>1015</td>\n",
              "      <td>1012.4</td>\n",
              "      <td>1.0</td>\n",
              "      <td>5.0</td>\n",
              "      <td>14.6</td>\n",
              "      <td>17.9</td>\n",
              "      <td>No</td>\n",
              "      <td>1.2</td>\n",
              "      <td>Yes</td>\n",
              "    </tr>\n",
              "    <tr>\n",
              "      <th>51991</th>\n",
              "      <td>2012-09-10</td>\n",
              "      <td>MountGinini</td>\n",
              "      <td>2.5</td>\n",
              "      <td>11.1</td>\n",
              "      <td>0.0</td>\n",
              "      <td>NaN</td>\n",
              "      <td>NaN</td>\n",
              "      <td>W</td>\n",
              "      <td>35.0</td>\n",
              "      <td>NW</td>\n",
              "      <td>...</td>\n",
              "      <td>43.0</td>\n",
              "      <td>NaN</td>\n",
              "      <td>NaN</td>\n",
              "      <td>NaN</td>\n",
              "      <td>NaN</td>\n",
              "      <td>7.2</td>\n",
              "      <td>10.2</td>\n",
              "      <td>No</td>\n",
              "      <td>0.0</td>\n",
              "      <td>No</td>\n",
              "    </tr>\n",
              "    <tr>\n",
              "      <th>41997</th>\n",
              "      <td>2010-09-23</td>\n",
              "      <td>Wollongong</td>\n",
              "      <td>12.7</td>\n",
              "      <td>18.8</td>\n",
              "      <td>2.6</td>\n",
              "      <td>NaN</td>\n",
              "      <td>NaN</td>\n",
              "      <td>S</td>\n",
              "      <td>41.0</td>\n",
              "      <td>S</td>\n",
              "      <td>...</td>\n",
              "      <td>76.0</td>\n",
              "      <td>1025.6</td>\n",
              "      <td>1023</td>\n",
              "      <td>8.0</td>\n",
              "      <td>8.0</td>\n",
              "      <td>15.5</td>\n",
              "      <td>15.8</td>\n",
              "      <td>Yes</td>\n",
              "      <td>0.0</td>\n",
              "      <td>No</td>\n",
              "    </tr>\n",
              "    <tr>\n",
              "      <th>84667</th>\n",
              "      <td>2016-12-15</td>\n",
              "      <td>Brisbane</td>\n",
              "      <td>19.0</td>\n",
              "      <td>30.6</td>\n",
              "      <td>0.0</td>\n",
              "      <td>NaN</td>\n",
              "      <td>12.9</td>\n",
              "      <td>NE</td>\n",
              "      <td>33.0</td>\n",
              "      <td>NNW</td>\n",
              "      <td>...</td>\n",
              "      <td>52.0</td>\n",
              "      <td>1013.2</td>\n",
              "      <td>1009.9</td>\n",
              "      <td>1.0</td>\n",
              "      <td>1.0</td>\n",
              "      <td>27.6</td>\n",
              "      <td>29.1</td>\n",
              "      <td>No</td>\n",
              "      <td>0.0</td>\n",
              "      <td>No</td>\n",
              "    </tr>\n",
              "    <tr>\n",
              "      <th>32167</th>\n",
              "      <td>2015-08-29</td>\n",
              "      <td>Sydney</td>\n",
              "      <td>9.0</td>\n",
              "      <td>20.3</td>\n",
              "      <td>0.0</td>\n",
              "      <td>4.2</td>\n",
              "      <td>10.8</td>\n",
              "      <td>WSW</td>\n",
              "      <td>30.0</td>\n",
              "      <td>W</td>\n",
              "      <td>...</td>\n",
              "      <td>31.0</td>\n",
              "      <td>1022.7</td>\n",
              "      <td>1017.9</td>\n",
              "      <td>1.0</td>\n",
              "      <td>2.0</td>\n",
              "      <td>13.0</td>\n",
              "      <td>20.1</td>\n",
              "      <td>No</td>\n",
              "      <td>0.0</td>\n",
              "      <td>No</td>\n",
              "    </tr>\n",
              "  </tbody>\n",
              "</table>\n",
              "<p>10 rows × 24 columns</p>\n",
              "</div>\n",
              "      <button class=\"colab-df-convert\" onclick=\"convertToInteractive('df-9dc59b4d-092c-4041-bb94-5bc806c80a26')\"\n",
              "              title=\"Convert this dataframe to an interactive table.\"\n",
              "              style=\"display:none;\">\n",
              "        \n",
              "  <svg xmlns=\"http://www.w3.org/2000/svg\" height=\"24px\"viewBox=\"0 0 24 24\"\n",
              "       width=\"24px\">\n",
              "    <path d=\"M0 0h24v24H0V0z\" fill=\"none\"/>\n",
              "    <path d=\"M18.56 5.44l.94 2.06.94-2.06 2.06-.94-2.06-.94-.94-2.06-.94 2.06-2.06.94zm-11 1L8.5 8.5l.94-2.06 2.06-.94-2.06-.94L8.5 2.5l-.94 2.06-2.06.94zm10 10l.94 2.06.94-2.06 2.06-.94-2.06-.94-.94-2.06-.94 2.06-2.06.94z\"/><path d=\"M17.41 7.96l-1.37-1.37c-.4-.4-.92-.59-1.43-.59-.52 0-1.04.2-1.43.59L10.3 9.45l-7.72 7.72c-.78.78-.78 2.05 0 2.83L4 21.41c.39.39.9.59 1.41.59.51 0 1.02-.2 1.41-.59l7.78-7.78 2.81-2.81c.8-.78.8-2.07 0-2.86zM5.41 20L4 18.59l7.72-7.72 1.47 1.35L5.41 20z\"/>\n",
              "  </svg>\n",
              "      </button>\n",
              "      \n",
              "  <style>\n",
              "    .colab-df-container {\n",
              "      display:flex;\n",
              "      flex-wrap:wrap;\n",
              "      gap: 12px;\n",
              "    }\n",
              "\n",
              "    .colab-df-convert {\n",
              "      background-color: #E8F0FE;\n",
              "      border: none;\n",
              "      border-radius: 50%;\n",
              "      cursor: pointer;\n",
              "      display: none;\n",
              "      fill: #1967D2;\n",
              "      height: 32px;\n",
              "      padding: 0 0 0 0;\n",
              "      width: 32px;\n",
              "    }\n",
              "\n",
              "    .colab-df-convert:hover {\n",
              "      background-color: #E2EBFA;\n",
              "      box-shadow: 0px 1px 2px rgba(60, 64, 67, 0.3), 0px 1px 3px 1px rgba(60, 64, 67, 0.15);\n",
              "      fill: #174EA6;\n",
              "    }\n",
              "\n",
              "    [theme=dark] .colab-df-convert {\n",
              "      background-color: #3B4455;\n",
              "      fill: #D2E3FC;\n",
              "    }\n",
              "\n",
              "    [theme=dark] .colab-df-convert:hover {\n",
              "      background-color: #434B5C;\n",
              "      box-shadow: 0px 1px 3px 1px rgba(0, 0, 0, 0.15);\n",
              "      filter: drop-shadow(0px 1px 2px rgba(0, 0, 0, 0.3));\n",
              "      fill: #FFFFFF;\n",
              "    }\n",
              "  </style>\n",
              "\n",
              "      <script>\n",
              "        const buttonEl =\n",
              "          document.querySelector('#df-9dc59b4d-092c-4041-bb94-5bc806c80a26 button.colab-df-convert');\n",
              "        buttonEl.style.display =\n",
              "          google.colab.kernel.accessAllowed ? 'block' : 'none';\n",
              "\n",
              "        async function convertToInteractive(key) {\n",
              "          const element = document.querySelector('#df-9dc59b4d-092c-4041-bb94-5bc806c80a26');\n",
              "          const dataTable =\n",
              "            await google.colab.kernel.invokeFunction('convertToInteractive',\n",
              "                                                     [key], {});\n",
              "          if (!dataTable) return;\n",
              "\n",
              "          const docLinkHtml = 'Like what you see? Visit the ' +\n",
              "            '<a target=\"_blank\" href=https://colab.research.google.com/notebooks/data_table.ipynb>data table notebook</a>'\n",
              "            + ' to learn more about interactive tables.';\n",
              "          element.innerHTML = '';\n",
              "          dataTable['output_type'] = 'display_data';\n",
              "          await google.colab.output.renderOutput(dataTable, element);\n",
              "          const docLink = document.createElement('div');\n",
              "          docLink.innerHTML = docLinkHtml;\n",
              "          element.appendChild(docLink);\n",
              "        }\n",
              "      </script>\n",
              "    </div>\n",
              "  </div>\n",
              "  "
            ]
          },
          "metadata": {},
          "execution_count": 8
        }
      ]
    },
    {
      "cell_type": "code",
      "source": [
        "# La siguiente porción de código nos permite filtrar el data set\n",
        "# Nos entrega la cantidad de nulos que tiene cada Característica y la ordena del mayor a menor.\n",
        "list_nulls = df.isnull().sum()\n",
        "list_nulls[(list_nulls>0)].sort_values(ascending = False)"
      ],
      "metadata": {
        "colab": {
          "base_uri": "https://localhost:8080/"
        },
        "id": "GioJBsAJtNla",
        "outputId": "012d8c81-1e04-4aaa-c171-4137c64cd048"
      },
      "execution_count": null,
      "outputs": [
        {
          "output_type": "execute_result",
          "data": {
            "text/plain": [
              "Sunshine         67816\n",
              "Evaporation      60843\n",
              "Cloud3pm         57094\n",
              "Cloud9am         53657\n",
              "Pressure9am      14014\n",
              "Pressure3pm      13981\n",
              "WindDir9am       10013\n",
              "WindGustDir       9330\n",
              "WindGustSpeed     9270\n",
              "WindDir3pm        3778\n",
              "Humidity3pm       3610\n",
              "Temp3pm           2726\n",
              "WindSpeed3pm      2630\n",
              "Humidity9am       1774\n",
              "RainToday         1406\n",
              "Rainfall          1406\n",
              "WindSpeed9am      1348\n",
              "Temp9am            904\n",
              "MinTemp            637\n",
              "MaxTemp            322\n",
              "dtype: int64"
            ]
          },
          "metadata": {},
          "execution_count": 9
        }
      ]
    },
    {
      "cell_type": "code",
      "source": [
        "#Tabla de Correlación de Pearson\n",
        "df.corr()"
      ],
      "metadata": {
        "colab": {
          "base_uri": "https://localhost:8080/",
          "height": 520
        },
        "id": "HPj6EX-3iUNK",
        "outputId": "1d5e11aa-f858-4229-b302-9e74cbaf17b3"
      },
      "execution_count": null,
      "outputs": [
        {
          "output_type": "execute_result",
          "data": {
            "text/plain": [
              "                MinTemp   MaxTemp  Rainfall  Evaporation  Sunshine  \\\n",
              "MinTemp        1.000000  0.736267  0.104255     0.467261  0.072961   \n",
              "MaxTemp        0.736267  1.000000 -0.074839     0.588915  0.469967   \n",
              "Rainfall       0.104255 -0.074839  1.000000    -0.064549 -0.227525   \n",
              "Evaporation    0.467261  0.588915 -0.064549     1.000000  0.366607   \n",
              "Sunshine       0.072961  0.469967 -0.227525     0.366607  1.000000   \n",
              "WindGustSpeed  0.177285  0.067690  0.133497     0.203001 -0.032831   \n",
              "WindSpeed9am   0.176005  0.014680  0.086816     0.193936  0.008040   \n",
              "WindSpeed3pm   0.175749  0.050800  0.057759     0.128895  0.056012   \n",
              "Humidity9am   -0.234211 -0.505432  0.223725    -0.505890 -0.491603   \n",
              "Humidity3pm    0.005999 -0.509270  0.255312    -0.392785 -0.629122   \n",
              "Cloud9am       0.077625 -0.289865  0.198195    -0.185032 -0.675610   \n",
              "Cloud3pm       0.020489 -0.279053  0.171993    -0.184287 -0.704202   \n",
              "Temp9am        0.901813  0.887020  0.011477     0.545497  0.291139   \n",
              "Temp3pm        0.708865  0.984562 -0.079178     0.574275  0.490180   \n",
              "RISK_MM        0.124743 -0.044208  0.308557    -0.043498 -0.294973   \n",
              "\n",
              "               WindGustSpeed  WindSpeed9am  WindSpeed3pm  Humidity9am  \\\n",
              "MinTemp             0.177285      0.176005      0.175749    -0.234211   \n",
              "MaxTemp             0.067690      0.014680      0.050800    -0.505432   \n",
              "Rainfall            0.133497      0.086816      0.057759     0.223725   \n",
              "Evaporation         0.203001      0.193936      0.128895    -0.505890   \n",
              "Sunshine           -0.032831      0.008040      0.056012    -0.491603   \n",
              "WindGustSpeed       1.000000      0.604837      0.686419    -0.215461   \n",
              "WindSpeed9am        0.604837      1.000000      0.519971    -0.270807   \n",
              "WindSpeed3pm        0.686419      0.519971      1.000000    -0.145942   \n",
              "Humidity9am        -0.215461     -0.270807     -0.145942     1.000000   \n",
              "Humidity3pm        -0.026663     -0.031607      0.015903     0.667388   \n",
              "Cloud9am            0.071235      0.024280      0.052780     0.452182   \n",
              "Cloud3pm            0.109088      0.053584      0.025269     0.358043   \n",
              "Temp9am             0.150258      0.129298      0.163601    -0.472826   \n",
              "Temp3pm             0.032970      0.005108      0.028567    -0.499777   \n",
              "RISK_MM             0.162923      0.069404      0.049240     0.172417   \n",
              "\n",
              "               Humidity3pm  Cloud9am  Cloud3pm   Temp9am   Temp3pm   RISK_MM  \n",
              "MinTemp           0.005999  0.077625  0.020489  0.901813  0.708865  0.124743  \n",
              "MaxTemp          -0.509270 -0.289865 -0.279053  0.887020  0.984562 -0.044208  \n",
              "Rainfall          0.255312  0.198195  0.171993  0.011477 -0.079178  0.308557  \n",
              "Evaporation      -0.392785 -0.185032 -0.184287  0.545497  0.574275 -0.043498  \n",
              "Sunshine         -0.629122 -0.675610 -0.704202  0.291139  0.490180 -0.294973  \n",
              "WindGustSpeed    -0.026663  0.071235  0.109088  0.150258  0.032970  0.162923  \n",
              "WindSpeed9am     -0.031607  0.024280  0.053584  0.129298  0.005108  0.069404  \n",
              "WindSpeed3pm      0.015903  0.052780  0.025269  0.163601  0.028567  0.049240  \n",
              "Humidity9am       0.667388  0.452182  0.358043 -0.472826 -0.499777  0.172417  \n",
              "Humidity3pm       1.000000  0.517037  0.523270 -0.221467 -0.557989  0.313183  \n",
              "Cloud9am          0.517037  1.000000  0.604118 -0.137843 -0.302520  0.198095  \n",
              "Cloud3pm          0.523270  0.604118  1.000000 -0.127869 -0.318254  0.234814  \n",
              "Temp9am          -0.221467 -0.137843 -0.127869  1.000000  0.860574  0.051232  \n",
              "Temp3pm          -0.557989 -0.302520 -0.318254  0.860574  1.000000 -0.066817  \n",
              "RISK_MM           0.313183  0.198095  0.234814  0.051232 -0.066817  1.000000  "
            ],
            "text/html": [
              "\n",
              "  <div id=\"df-7fda2999-2a77-4b8c-8232-beb4b818636e\">\n",
              "    <div class=\"colab-df-container\">\n",
              "      <div>\n",
              "<style scoped>\n",
              "    .dataframe tbody tr th:only-of-type {\n",
              "        vertical-align: middle;\n",
              "    }\n",
              "\n",
              "    .dataframe tbody tr th {\n",
              "        vertical-align: top;\n",
              "    }\n",
              "\n",
              "    .dataframe thead th {\n",
              "        text-align: right;\n",
              "    }\n",
              "</style>\n",
              "<table border=\"1\" class=\"dataframe\">\n",
              "  <thead>\n",
              "    <tr style=\"text-align: right;\">\n",
              "      <th></th>\n",
              "      <th>MinTemp</th>\n",
              "      <th>MaxTemp</th>\n",
              "      <th>Rainfall</th>\n",
              "      <th>Evaporation</th>\n",
              "      <th>Sunshine</th>\n",
              "      <th>WindGustSpeed</th>\n",
              "      <th>WindSpeed9am</th>\n",
              "      <th>WindSpeed3pm</th>\n",
              "      <th>Humidity9am</th>\n",
              "      <th>Humidity3pm</th>\n",
              "      <th>Cloud9am</th>\n",
              "      <th>Cloud3pm</th>\n",
              "      <th>Temp9am</th>\n",
              "      <th>Temp3pm</th>\n",
              "      <th>RISK_MM</th>\n",
              "    </tr>\n",
              "  </thead>\n",
              "  <tbody>\n",
              "    <tr>\n",
              "      <th>MinTemp</th>\n",
              "      <td>1.000000</td>\n",
              "      <td>0.736267</td>\n",
              "      <td>0.104255</td>\n",
              "      <td>0.467261</td>\n",
              "      <td>0.072961</td>\n",
              "      <td>0.177285</td>\n",
              "      <td>0.176005</td>\n",
              "      <td>0.175749</td>\n",
              "      <td>-0.234211</td>\n",
              "      <td>0.005999</td>\n",
              "      <td>0.077625</td>\n",
              "      <td>0.020489</td>\n",
              "      <td>0.901813</td>\n",
              "      <td>0.708865</td>\n",
              "      <td>0.124743</td>\n",
              "    </tr>\n",
              "    <tr>\n",
              "      <th>MaxTemp</th>\n",
              "      <td>0.736267</td>\n",
              "      <td>1.000000</td>\n",
              "      <td>-0.074839</td>\n",
              "      <td>0.588915</td>\n",
              "      <td>0.469967</td>\n",
              "      <td>0.067690</td>\n",
              "      <td>0.014680</td>\n",
              "      <td>0.050800</td>\n",
              "      <td>-0.505432</td>\n",
              "      <td>-0.509270</td>\n",
              "      <td>-0.289865</td>\n",
              "      <td>-0.279053</td>\n",
              "      <td>0.887020</td>\n",
              "      <td>0.984562</td>\n",
              "      <td>-0.044208</td>\n",
              "    </tr>\n",
              "    <tr>\n",
              "      <th>Rainfall</th>\n",
              "      <td>0.104255</td>\n",
              "      <td>-0.074839</td>\n",
              "      <td>1.000000</td>\n",
              "      <td>-0.064549</td>\n",
              "      <td>-0.227525</td>\n",
              "      <td>0.133497</td>\n",
              "      <td>0.086816</td>\n",
              "      <td>0.057759</td>\n",
              "      <td>0.223725</td>\n",
              "      <td>0.255312</td>\n",
              "      <td>0.198195</td>\n",
              "      <td>0.171993</td>\n",
              "      <td>0.011477</td>\n",
              "      <td>-0.079178</td>\n",
              "      <td>0.308557</td>\n",
              "    </tr>\n",
              "    <tr>\n",
              "      <th>Evaporation</th>\n",
              "      <td>0.467261</td>\n",
              "      <td>0.588915</td>\n",
              "      <td>-0.064549</td>\n",
              "      <td>1.000000</td>\n",
              "      <td>0.366607</td>\n",
              "      <td>0.203001</td>\n",
              "      <td>0.193936</td>\n",
              "      <td>0.128895</td>\n",
              "      <td>-0.505890</td>\n",
              "      <td>-0.392785</td>\n",
              "      <td>-0.185032</td>\n",
              "      <td>-0.184287</td>\n",
              "      <td>0.545497</td>\n",
              "      <td>0.574275</td>\n",
              "      <td>-0.043498</td>\n",
              "    </tr>\n",
              "    <tr>\n",
              "      <th>Sunshine</th>\n",
              "      <td>0.072961</td>\n",
              "      <td>0.469967</td>\n",
              "      <td>-0.227525</td>\n",
              "      <td>0.366607</td>\n",
              "      <td>1.000000</td>\n",
              "      <td>-0.032831</td>\n",
              "      <td>0.008040</td>\n",
              "      <td>0.056012</td>\n",
              "      <td>-0.491603</td>\n",
              "      <td>-0.629122</td>\n",
              "      <td>-0.675610</td>\n",
              "      <td>-0.704202</td>\n",
              "      <td>0.291139</td>\n",
              "      <td>0.490180</td>\n",
              "      <td>-0.294973</td>\n",
              "    </tr>\n",
              "    <tr>\n",
              "      <th>WindGustSpeed</th>\n",
              "      <td>0.177285</td>\n",
              "      <td>0.067690</td>\n",
              "      <td>0.133497</td>\n",
              "      <td>0.203001</td>\n",
              "      <td>-0.032831</td>\n",
              "      <td>1.000000</td>\n",
              "      <td>0.604837</td>\n",
              "      <td>0.686419</td>\n",
              "      <td>-0.215461</td>\n",
              "      <td>-0.026663</td>\n",
              "      <td>0.071235</td>\n",
              "      <td>0.109088</td>\n",
              "      <td>0.150258</td>\n",
              "      <td>0.032970</td>\n",
              "      <td>0.162923</td>\n",
              "    </tr>\n",
              "    <tr>\n",
              "      <th>WindSpeed9am</th>\n",
              "      <td>0.176005</td>\n",
              "      <td>0.014680</td>\n",
              "      <td>0.086816</td>\n",
              "      <td>0.193936</td>\n",
              "      <td>0.008040</td>\n",
              "      <td>0.604837</td>\n",
              "      <td>1.000000</td>\n",
              "      <td>0.519971</td>\n",
              "      <td>-0.270807</td>\n",
              "      <td>-0.031607</td>\n",
              "      <td>0.024280</td>\n",
              "      <td>0.053584</td>\n",
              "      <td>0.129298</td>\n",
              "      <td>0.005108</td>\n",
              "      <td>0.069404</td>\n",
              "    </tr>\n",
              "    <tr>\n",
              "      <th>WindSpeed3pm</th>\n",
              "      <td>0.175749</td>\n",
              "      <td>0.050800</td>\n",
              "      <td>0.057759</td>\n",
              "      <td>0.128895</td>\n",
              "      <td>0.056012</td>\n",
              "      <td>0.686419</td>\n",
              "      <td>0.519971</td>\n",
              "      <td>1.000000</td>\n",
              "      <td>-0.145942</td>\n",
              "      <td>0.015903</td>\n",
              "      <td>0.052780</td>\n",
              "      <td>0.025269</td>\n",
              "      <td>0.163601</td>\n",
              "      <td>0.028567</td>\n",
              "      <td>0.049240</td>\n",
              "    </tr>\n",
              "    <tr>\n",
              "      <th>Humidity9am</th>\n",
              "      <td>-0.234211</td>\n",
              "      <td>-0.505432</td>\n",
              "      <td>0.223725</td>\n",
              "      <td>-0.505890</td>\n",
              "      <td>-0.491603</td>\n",
              "      <td>-0.215461</td>\n",
              "      <td>-0.270807</td>\n",
              "      <td>-0.145942</td>\n",
              "      <td>1.000000</td>\n",
              "      <td>0.667388</td>\n",
              "      <td>0.452182</td>\n",
              "      <td>0.358043</td>\n",
              "      <td>-0.472826</td>\n",
              "      <td>-0.499777</td>\n",
              "      <td>0.172417</td>\n",
              "    </tr>\n",
              "    <tr>\n",
              "      <th>Humidity3pm</th>\n",
              "      <td>0.005999</td>\n",
              "      <td>-0.509270</td>\n",
              "      <td>0.255312</td>\n",
              "      <td>-0.392785</td>\n",
              "      <td>-0.629122</td>\n",
              "      <td>-0.026663</td>\n",
              "      <td>-0.031607</td>\n",
              "      <td>0.015903</td>\n",
              "      <td>0.667388</td>\n",
              "      <td>1.000000</td>\n",
              "      <td>0.517037</td>\n",
              "      <td>0.523270</td>\n",
              "      <td>-0.221467</td>\n",
              "      <td>-0.557989</td>\n",
              "      <td>0.313183</td>\n",
              "    </tr>\n",
              "    <tr>\n",
              "      <th>Cloud9am</th>\n",
              "      <td>0.077625</td>\n",
              "      <td>-0.289865</td>\n",
              "      <td>0.198195</td>\n",
              "      <td>-0.185032</td>\n",
              "      <td>-0.675610</td>\n",
              "      <td>0.071235</td>\n",
              "      <td>0.024280</td>\n",
              "      <td>0.052780</td>\n",
              "      <td>0.452182</td>\n",
              "      <td>0.517037</td>\n",
              "      <td>1.000000</td>\n",
              "      <td>0.604118</td>\n",
              "      <td>-0.137843</td>\n",
              "      <td>-0.302520</td>\n",
              "      <td>0.198095</td>\n",
              "    </tr>\n",
              "    <tr>\n",
              "      <th>Cloud3pm</th>\n",
              "      <td>0.020489</td>\n",
              "      <td>-0.279053</td>\n",
              "      <td>0.171993</td>\n",
              "      <td>-0.184287</td>\n",
              "      <td>-0.704202</td>\n",
              "      <td>0.109088</td>\n",
              "      <td>0.053584</td>\n",
              "      <td>0.025269</td>\n",
              "      <td>0.358043</td>\n",
              "      <td>0.523270</td>\n",
              "      <td>0.604118</td>\n",
              "      <td>1.000000</td>\n",
              "      <td>-0.127869</td>\n",
              "      <td>-0.318254</td>\n",
              "      <td>0.234814</td>\n",
              "    </tr>\n",
              "    <tr>\n",
              "      <th>Temp9am</th>\n",
              "      <td>0.901813</td>\n",
              "      <td>0.887020</td>\n",
              "      <td>0.011477</td>\n",
              "      <td>0.545497</td>\n",
              "      <td>0.291139</td>\n",
              "      <td>0.150258</td>\n",
              "      <td>0.129298</td>\n",
              "      <td>0.163601</td>\n",
              "      <td>-0.472826</td>\n",
              "      <td>-0.221467</td>\n",
              "      <td>-0.137843</td>\n",
              "      <td>-0.127869</td>\n",
              "      <td>1.000000</td>\n",
              "      <td>0.860574</td>\n",
              "      <td>0.051232</td>\n",
              "    </tr>\n",
              "    <tr>\n",
              "      <th>Temp3pm</th>\n",
              "      <td>0.708865</td>\n",
              "      <td>0.984562</td>\n",
              "      <td>-0.079178</td>\n",
              "      <td>0.574275</td>\n",
              "      <td>0.490180</td>\n",
              "      <td>0.032970</td>\n",
              "      <td>0.005108</td>\n",
              "      <td>0.028567</td>\n",
              "      <td>-0.499777</td>\n",
              "      <td>-0.557989</td>\n",
              "      <td>-0.302520</td>\n",
              "      <td>-0.318254</td>\n",
              "      <td>0.860574</td>\n",
              "      <td>1.000000</td>\n",
              "      <td>-0.066817</td>\n",
              "    </tr>\n",
              "    <tr>\n",
              "      <th>RISK_MM</th>\n",
              "      <td>0.124743</td>\n",
              "      <td>-0.044208</td>\n",
              "      <td>0.308557</td>\n",
              "      <td>-0.043498</td>\n",
              "      <td>-0.294973</td>\n",
              "      <td>0.162923</td>\n",
              "      <td>0.069404</td>\n",
              "      <td>0.049240</td>\n",
              "      <td>0.172417</td>\n",
              "      <td>0.313183</td>\n",
              "      <td>0.198095</td>\n",
              "      <td>0.234814</td>\n",
              "      <td>0.051232</td>\n",
              "      <td>-0.066817</td>\n",
              "      <td>1.000000</td>\n",
              "    </tr>\n",
              "  </tbody>\n",
              "</table>\n",
              "</div>\n",
              "      <button class=\"colab-df-convert\" onclick=\"convertToInteractive('df-7fda2999-2a77-4b8c-8232-beb4b818636e')\"\n",
              "              title=\"Convert this dataframe to an interactive table.\"\n",
              "              style=\"display:none;\">\n",
              "        \n",
              "  <svg xmlns=\"http://www.w3.org/2000/svg\" height=\"24px\"viewBox=\"0 0 24 24\"\n",
              "       width=\"24px\">\n",
              "    <path d=\"M0 0h24v24H0V0z\" fill=\"none\"/>\n",
              "    <path d=\"M18.56 5.44l.94 2.06.94-2.06 2.06-.94-2.06-.94-.94-2.06-.94 2.06-2.06.94zm-11 1L8.5 8.5l.94-2.06 2.06-.94-2.06-.94L8.5 2.5l-.94 2.06-2.06.94zm10 10l.94 2.06.94-2.06 2.06-.94-2.06-.94-.94-2.06-.94 2.06-2.06.94z\"/><path d=\"M17.41 7.96l-1.37-1.37c-.4-.4-.92-.59-1.43-.59-.52 0-1.04.2-1.43.59L10.3 9.45l-7.72 7.72c-.78.78-.78 2.05 0 2.83L4 21.41c.39.39.9.59 1.41.59.51 0 1.02-.2 1.41-.59l7.78-7.78 2.81-2.81c.8-.78.8-2.07 0-2.86zM5.41 20L4 18.59l7.72-7.72 1.47 1.35L5.41 20z\"/>\n",
              "  </svg>\n",
              "      </button>\n",
              "      \n",
              "  <style>\n",
              "    .colab-df-container {\n",
              "      display:flex;\n",
              "      flex-wrap:wrap;\n",
              "      gap: 12px;\n",
              "    }\n",
              "\n",
              "    .colab-df-convert {\n",
              "      background-color: #E8F0FE;\n",
              "      border: none;\n",
              "      border-radius: 50%;\n",
              "      cursor: pointer;\n",
              "      display: none;\n",
              "      fill: #1967D2;\n",
              "      height: 32px;\n",
              "      padding: 0 0 0 0;\n",
              "      width: 32px;\n",
              "    }\n",
              "\n",
              "    .colab-df-convert:hover {\n",
              "      background-color: #E2EBFA;\n",
              "      box-shadow: 0px 1px 2px rgba(60, 64, 67, 0.3), 0px 1px 3px 1px rgba(60, 64, 67, 0.15);\n",
              "      fill: #174EA6;\n",
              "    }\n",
              "\n",
              "    [theme=dark] .colab-df-convert {\n",
              "      background-color: #3B4455;\n",
              "      fill: #D2E3FC;\n",
              "    }\n",
              "\n",
              "    [theme=dark] .colab-df-convert:hover {\n",
              "      background-color: #434B5C;\n",
              "      box-shadow: 0px 1px 3px 1px rgba(0, 0, 0, 0.15);\n",
              "      filter: drop-shadow(0px 1px 2px rgba(0, 0, 0, 0.3));\n",
              "      fill: #FFFFFF;\n",
              "    }\n",
              "  </style>\n",
              "\n",
              "      <script>\n",
              "        const buttonEl =\n",
              "          document.querySelector('#df-7fda2999-2a77-4b8c-8232-beb4b818636e button.colab-df-convert');\n",
              "        buttonEl.style.display =\n",
              "          google.colab.kernel.accessAllowed ? 'block' : 'none';\n",
              "\n",
              "        async function convertToInteractive(key) {\n",
              "          const element = document.querySelector('#df-7fda2999-2a77-4b8c-8232-beb4b818636e');\n",
              "          const dataTable =\n",
              "            await google.colab.kernel.invokeFunction('convertToInteractive',\n",
              "                                                     [key], {});\n",
              "          if (!dataTable) return;\n",
              "\n",
              "          const docLinkHtml = 'Like what you see? Visit the ' +\n",
              "            '<a target=\"_blank\" href=https://colab.research.google.com/notebooks/data_table.ipynb>data table notebook</a>'\n",
              "            + ' to learn more about interactive tables.';\n",
              "          element.innerHTML = '';\n",
              "          dataTable['output_type'] = 'display_data';\n",
              "          await google.colab.output.renderOutput(dataTable, element);\n",
              "          const docLink = document.createElement('div');\n",
              "          docLink.innerHTML = docLinkHtml;\n",
              "          element.appendChild(docLink);\n",
              "        }\n",
              "      </script>\n",
              "    </div>\n",
              "  </div>\n",
              "  "
            ]
          },
          "metadata": {},
          "execution_count": 10
        }
      ]
    },
    {
      "cell_type": "code",
      "source": [
        "#Tabla de Contigencia\n",
        "\n",
        "#Mide la relación entre las variables Cualitativas.\n",
        "\n",
        "data_crosstab = pd.crosstab(df.RainTomorrow,\n",
        "                            df.RainToday,  \n",
        "                            margins = True,\n",
        "                            margins_name= 'Total',\n",
        "                            normalize = True) \n",
        "print(data_crosstab)"
      ],
      "metadata": {
        "colab": {
          "base_uri": "https://localhost:8080/"
        },
        "id": "ukMLIH2NdZhc",
        "outputId": "17de895b-1996-4bb0-e618-0f33cad3828f"
      },
      "execution_count": null,
      "outputs": [
        {
          "output_type": "stream",
          "name": "stdout",
          "text": [
            "RainToday           No       Yes     Total\n",
            "RainTomorrow                              \n",
            "No            0.658640  0.119741  0.778382\n",
            "Yes           0.117937  0.103681  0.221618\n",
            "Total         0.776577  0.223423  1.000000\n"
          ]
        }
      ]
    },
    {
      "cell_type": "code",
      "source": [
        "#con la función describe() podemos ver un resumen de las principales estadisticas\n",
        "#del dataset\n",
        "df.describe()"
      ],
      "metadata": {
        "colab": {
          "base_uri": "https://localhost:8080/",
          "height": 364
        },
        "id": "Mp_eM2Nas0Sh",
        "outputId": "98deb0ac-7c47-4689-f2cb-198b65375436"
      },
      "execution_count": null,
      "outputs": [
        {
          "output_type": "execute_result",
          "data": {
            "text/plain": [
              "             MinTemp        MaxTemp       Rainfall   Evaporation  \\\n",
              "count  141556.000000  141871.000000  140787.000000  81350.000000   \n",
              "mean       12.186400      23.226784       2.349974      5.469824   \n",
              "std         6.403283       7.117618       8.465173      4.188537   \n",
              "min        -8.500000      -4.800000       0.000000      0.000000   \n",
              "25%         7.600000      17.900000       0.000000      2.600000   \n",
              "50%        12.000000      22.600000       0.000000      4.800000   \n",
              "75%        16.800000      28.200000       0.800000      7.400000   \n",
              "max        33.900000      48.100000     371.000000    145.000000   \n",
              "\n",
              "           Sunshine  WindGustSpeed   WindSpeed9am   WindSpeed3pm  \\\n",
              "count  74377.000000  132923.000000  140845.000000  139563.000000   \n",
              "mean       7.624853      39.984292      14.001988      18.637576   \n",
              "std        3.781525      13.588801       8.893337       8.803345   \n",
              "min        0.000000       6.000000       0.000000       0.000000   \n",
              "25%        4.900000      31.000000       7.000000      13.000000   \n",
              "50%        8.500000      39.000000      13.000000      19.000000   \n",
              "75%       10.600000      48.000000      19.000000      24.000000   \n",
              "max       14.500000     135.000000     130.000000      87.000000   \n",
              "\n",
              "         Humidity9am    Humidity3pm      Cloud9am      Cloud3pm  \\\n",
              "count  140419.000000  138583.000000  88536.000000  85099.000000   \n",
              "mean       68.843810      51.482606      4.437189      4.503167   \n",
              "std        19.051293      20.797772      2.887016      2.720633   \n",
              "min         0.000000       0.000000      0.000000      0.000000   \n",
              "25%        57.000000      37.000000      1.000000      2.000000   \n",
              "50%        70.000000      52.000000      5.000000      5.000000   \n",
              "75%        83.000000      66.000000      7.000000      7.000000   \n",
              "max       100.000000     100.000000      9.000000      9.000000   \n",
              "\n",
              "             Temp9am        Temp3pm        RISK_MM  \n",
              "count  141289.000000  139467.000000  142193.000000  \n",
              "mean       16.987509      21.687235       2.360682  \n",
              "std         6.492838       6.937594       8.477969  \n",
              "min        -7.200000      -5.400000       0.000000  \n",
              "25%        12.300000      16.600000       0.000000  \n",
              "50%        16.700000      21.100000       0.000000  \n",
              "75%        21.600000      26.400000       0.800000  \n",
              "max        40.200000      46.700000     371.000000  "
            ],
            "text/html": [
              "\n",
              "  <div id=\"df-752d087b-cf0d-457f-a644-036fed9b2270\">\n",
              "    <div class=\"colab-df-container\">\n",
              "      <div>\n",
              "<style scoped>\n",
              "    .dataframe tbody tr th:only-of-type {\n",
              "        vertical-align: middle;\n",
              "    }\n",
              "\n",
              "    .dataframe tbody tr th {\n",
              "        vertical-align: top;\n",
              "    }\n",
              "\n",
              "    .dataframe thead th {\n",
              "        text-align: right;\n",
              "    }\n",
              "</style>\n",
              "<table border=\"1\" class=\"dataframe\">\n",
              "  <thead>\n",
              "    <tr style=\"text-align: right;\">\n",
              "      <th></th>\n",
              "      <th>MinTemp</th>\n",
              "      <th>MaxTemp</th>\n",
              "      <th>Rainfall</th>\n",
              "      <th>Evaporation</th>\n",
              "      <th>Sunshine</th>\n",
              "      <th>WindGustSpeed</th>\n",
              "      <th>WindSpeed9am</th>\n",
              "      <th>WindSpeed3pm</th>\n",
              "      <th>Humidity9am</th>\n",
              "      <th>Humidity3pm</th>\n",
              "      <th>Cloud9am</th>\n",
              "      <th>Cloud3pm</th>\n",
              "      <th>Temp9am</th>\n",
              "      <th>Temp3pm</th>\n",
              "      <th>RISK_MM</th>\n",
              "    </tr>\n",
              "  </thead>\n",
              "  <tbody>\n",
              "    <tr>\n",
              "      <th>count</th>\n",
              "      <td>141556.000000</td>\n",
              "      <td>141871.000000</td>\n",
              "      <td>140787.000000</td>\n",
              "      <td>81350.000000</td>\n",
              "      <td>74377.000000</td>\n",
              "      <td>132923.000000</td>\n",
              "      <td>140845.000000</td>\n",
              "      <td>139563.000000</td>\n",
              "      <td>140419.000000</td>\n",
              "      <td>138583.000000</td>\n",
              "      <td>88536.000000</td>\n",
              "      <td>85099.000000</td>\n",
              "      <td>141289.000000</td>\n",
              "      <td>139467.000000</td>\n",
              "      <td>142193.000000</td>\n",
              "    </tr>\n",
              "    <tr>\n",
              "      <th>mean</th>\n",
              "      <td>12.186400</td>\n",
              "      <td>23.226784</td>\n",
              "      <td>2.349974</td>\n",
              "      <td>5.469824</td>\n",
              "      <td>7.624853</td>\n",
              "      <td>39.984292</td>\n",
              "      <td>14.001988</td>\n",
              "      <td>18.637576</td>\n",
              "      <td>68.843810</td>\n",
              "      <td>51.482606</td>\n",
              "      <td>4.437189</td>\n",
              "      <td>4.503167</td>\n",
              "      <td>16.987509</td>\n",
              "      <td>21.687235</td>\n",
              "      <td>2.360682</td>\n",
              "    </tr>\n",
              "    <tr>\n",
              "      <th>std</th>\n",
              "      <td>6.403283</td>\n",
              "      <td>7.117618</td>\n",
              "      <td>8.465173</td>\n",
              "      <td>4.188537</td>\n",
              "      <td>3.781525</td>\n",
              "      <td>13.588801</td>\n",
              "      <td>8.893337</td>\n",
              "      <td>8.803345</td>\n",
              "      <td>19.051293</td>\n",
              "      <td>20.797772</td>\n",
              "      <td>2.887016</td>\n",
              "      <td>2.720633</td>\n",
              "      <td>6.492838</td>\n",
              "      <td>6.937594</td>\n",
              "      <td>8.477969</td>\n",
              "    </tr>\n",
              "    <tr>\n",
              "      <th>min</th>\n",
              "      <td>-8.500000</td>\n",
              "      <td>-4.800000</td>\n",
              "      <td>0.000000</td>\n",
              "      <td>0.000000</td>\n",
              "      <td>0.000000</td>\n",
              "      <td>6.000000</td>\n",
              "      <td>0.000000</td>\n",
              "      <td>0.000000</td>\n",
              "      <td>0.000000</td>\n",
              "      <td>0.000000</td>\n",
              "      <td>0.000000</td>\n",
              "      <td>0.000000</td>\n",
              "      <td>-7.200000</td>\n",
              "      <td>-5.400000</td>\n",
              "      <td>0.000000</td>\n",
              "    </tr>\n",
              "    <tr>\n",
              "      <th>25%</th>\n",
              "      <td>7.600000</td>\n",
              "      <td>17.900000</td>\n",
              "      <td>0.000000</td>\n",
              "      <td>2.600000</td>\n",
              "      <td>4.900000</td>\n",
              "      <td>31.000000</td>\n",
              "      <td>7.000000</td>\n",
              "      <td>13.000000</td>\n",
              "      <td>57.000000</td>\n",
              "      <td>37.000000</td>\n",
              "      <td>1.000000</td>\n",
              "      <td>2.000000</td>\n",
              "      <td>12.300000</td>\n",
              "      <td>16.600000</td>\n",
              "      <td>0.000000</td>\n",
              "    </tr>\n",
              "    <tr>\n",
              "      <th>50%</th>\n",
              "      <td>12.000000</td>\n",
              "      <td>22.600000</td>\n",
              "      <td>0.000000</td>\n",
              "      <td>4.800000</td>\n",
              "      <td>8.500000</td>\n",
              "      <td>39.000000</td>\n",
              "      <td>13.000000</td>\n",
              "      <td>19.000000</td>\n",
              "      <td>70.000000</td>\n",
              "      <td>52.000000</td>\n",
              "      <td>5.000000</td>\n",
              "      <td>5.000000</td>\n",
              "      <td>16.700000</td>\n",
              "      <td>21.100000</td>\n",
              "      <td>0.000000</td>\n",
              "    </tr>\n",
              "    <tr>\n",
              "      <th>75%</th>\n",
              "      <td>16.800000</td>\n",
              "      <td>28.200000</td>\n",
              "      <td>0.800000</td>\n",
              "      <td>7.400000</td>\n",
              "      <td>10.600000</td>\n",
              "      <td>48.000000</td>\n",
              "      <td>19.000000</td>\n",
              "      <td>24.000000</td>\n",
              "      <td>83.000000</td>\n",
              "      <td>66.000000</td>\n",
              "      <td>7.000000</td>\n",
              "      <td>7.000000</td>\n",
              "      <td>21.600000</td>\n",
              "      <td>26.400000</td>\n",
              "      <td>0.800000</td>\n",
              "    </tr>\n",
              "    <tr>\n",
              "      <th>max</th>\n",
              "      <td>33.900000</td>\n",
              "      <td>48.100000</td>\n",
              "      <td>371.000000</td>\n",
              "      <td>145.000000</td>\n",
              "      <td>14.500000</td>\n",
              "      <td>135.000000</td>\n",
              "      <td>130.000000</td>\n",
              "      <td>87.000000</td>\n",
              "      <td>100.000000</td>\n",
              "      <td>100.000000</td>\n",
              "      <td>9.000000</td>\n",
              "      <td>9.000000</td>\n",
              "      <td>40.200000</td>\n",
              "      <td>46.700000</td>\n",
              "      <td>371.000000</td>\n",
              "    </tr>\n",
              "  </tbody>\n",
              "</table>\n",
              "</div>\n",
              "      <button class=\"colab-df-convert\" onclick=\"convertToInteractive('df-752d087b-cf0d-457f-a644-036fed9b2270')\"\n",
              "              title=\"Convert this dataframe to an interactive table.\"\n",
              "              style=\"display:none;\">\n",
              "        \n",
              "  <svg xmlns=\"http://www.w3.org/2000/svg\" height=\"24px\"viewBox=\"0 0 24 24\"\n",
              "       width=\"24px\">\n",
              "    <path d=\"M0 0h24v24H0V0z\" fill=\"none\"/>\n",
              "    <path d=\"M18.56 5.44l.94 2.06.94-2.06 2.06-.94-2.06-.94-.94-2.06-.94 2.06-2.06.94zm-11 1L8.5 8.5l.94-2.06 2.06-.94-2.06-.94L8.5 2.5l-.94 2.06-2.06.94zm10 10l.94 2.06.94-2.06 2.06-.94-2.06-.94-.94-2.06-.94 2.06-2.06.94z\"/><path d=\"M17.41 7.96l-1.37-1.37c-.4-.4-.92-.59-1.43-.59-.52 0-1.04.2-1.43.59L10.3 9.45l-7.72 7.72c-.78.78-.78 2.05 0 2.83L4 21.41c.39.39.9.59 1.41.59.51 0 1.02-.2 1.41-.59l7.78-7.78 2.81-2.81c.8-.78.8-2.07 0-2.86zM5.41 20L4 18.59l7.72-7.72 1.47 1.35L5.41 20z\"/>\n",
              "  </svg>\n",
              "      </button>\n",
              "      \n",
              "  <style>\n",
              "    .colab-df-container {\n",
              "      display:flex;\n",
              "      flex-wrap:wrap;\n",
              "      gap: 12px;\n",
              "    }\n",
              "\n",
              "    .colab-df-convert {\n",
              "      background-color: #E8F0FE;\n",
              "      border: none;\n",
              "      border-radius: 50%;\n",
              "      cursor: pointer;\n",
              "      display: none;\n",
              "      fill: #1967D2;\n",
              "      height: 32px;\n",
              "      padding: 0 0 0 0;\n",
              "      width: 32px;\n",
              "    }\n",
              "\n",
              "    .colab-df-convert:hover {\n",
              "      background-color: #E2EBFA;\n",
              "      box-shadow: 0px 1px 2px rgba(60, 64, 67, 0.3), 0px 1px 3px 1px rgba(60, 64, 67, 0.15);\n",
              "      fill: #174EA6;\n",
              "    }\n",
              "\n",
              "    [theme=dark] .colab-df-convert {\n",
              "      background-color: #3B4455;\n",
              "      fill: #D2E3FC;\n",
              "    }\n",
              "\n",
              "    [theme=dark] .colab-df-convert:hover {\n",
              "      background-color: #434B5C;\n",
              "      box-shadow: 0px 1px 3px 1px rgba(0, 0, 0, 0.15);\n",
              "      filter: drop-shadow(0px 1px 2px rgba(0, 0, 0, 0.3));\n",
              "      fill: #FFFFFF;\n",
              "    }\n",
              "  </style>\n",
              "\n",
              "      <script>\n",
              "        const buttonEl =\n",
              "          document.querySelector('#df-752d087b-cf0d-457f-a644-036fed9b2270 button.colab-df-convert');\n",
              "        buttonEl.style.display =\n",
              "          google.colab.kernel.accessAllowed ? 'block' : 'none';\n",
              "\n",
              "        async function convertToInteractive(key) {\n",
              "          const element = document.querySelector('#df-752d087b-cf0d-457f-a644-036fed9b2270');\n",
              "          const dataTable =\n",
              "            await google.colab.kernel.invokeFunction('convertToInteractive',\n",
              "                                                     [key], {});\n",
              "          if (!dataTable) return;\n",
              "\n",
              "          const docLinkHtml = 'Like what you see? Visit the ' +\n",
              "            '<a target=\"_blank\" href=https://colab.research.google.com/notebooks/data_table.ipynb>data table notebook</a>'\n",
              "            + ' to learn more about interactive tables.';\n",
              "          element.innerHTML = '';\n",
              "          dataTable['output_type'] = 'display_data';\n",
              "          await google.colab.output.renderOutput(dataTable, element);\n",
              "          const docLink = document.createElement('div');\n",
              "          docLink.innerHTML = docLinkHtml;\n",
              "          element.appendChild(docLink);\n",
              "        }\n",
              "      </script>\n",
              "    </div>\n",
              "  </div>\n",
              "  "
            ]
          },
          "metadata": {},
          "execution_count": 12
        }
      ]
    },
    {
      "cell_type": "code",
      "source": [
        "serie_MaxTemp_Location = df.groupby('Location')['MaxTemp'].mean()\n",
        "list_location = df.loc[:,\"Location\"].unique()"
      ],
      "metadata": {
        "id": "C7cD89k8zg31"
      },
      "execution_count": null,
      "outputs": []
    },
    {
      "cell_type": "code",
      "source": [
        "df_2 = df.iloc[:,[2,3,13,14,19,20,22]]"
      ],
      "metadata": {
        "id": "Z1NzuYkae7Np"
      },
      "execution_count": null,
      "outputs": []
    },
    {
      "cell_type": "code",
      "source": [
        "from pandas.plotting import scatter_matrix\n",
        "import numpy as np\n",
        "import matplotlib.pyplot as plt\n",
        "\n",
        "axes = scatter_matrix(df_2, alpha=1, figsize=(7,7), color=\"skyblue\")\n",
        "corr = df_2.corr().values\n",
        "for i, j in zip(*plt.np.triu_indices_from(axes, k=1)):\n",
        "    axes[i, j].annotate(\"%.2f\" %corr[i,j], (0.8, 0.8), xycoords='axes fraction', ha='center', va='center')\n",
        "plt.show()"
      ],
      "metadata": {
        "colab": {
          "base_uri": "https://localhost:8080/",
          "height": 449
        },
        "id": "fpSZghfHd9LI",
        "outputId": "8dd6e2c3-a706-4065-8e7d-c2744de7a972"
      },
      "execution_count": null,
      "outputs": [
        {
          "output_type": "display_data",
          "data": {
            "text/plain": [
              "<Figure size 504x504 with 49 Axes>"
            ],
            "image/png": "[encoded data removed]"
          },
          "metadata": {
            "needs_background": "light"
          }
        }
      ]
    },
    {
      "cell_type": "code",
      "source": [
        " #Exploración de los datos en forma Gráfica\n",
        "plt.rcParams[\"figure.figsize\"] = (20, 5)\n",
        "fig, ax = plt.subplots()\n",
        "ax.bar(list_location, serie_MaxTemp_Location)\n",
        "ax.set_title('Promedio de temperatura máxima por Ciudad', loc = \"center\", fontdict = {'fontsize':14, 'fontweight':'bold', 'color':'tab:blue'})\n",
        "ax.set_xlabel(\"Ciudades\", fontdict = {'fontsize':14, 'fontweight':'bold', 'color':'tab:blue'})\n",
        "ax.set_ylabel(\"Temperatura ºC\", fontdict = {'fontsize':14, 'fontweight':'bold', 'color':'tab:blue'})\n",
        "plt.xticks(rotation=90)\n",
        "plt.show()"
      ],
      "metadata": {
        "colab": {
          "base_uri": "https://localhost:8080/",
          "height": 432
        },
        "id": "YxZ_AsKruRPE",
        "outputId": "f525ec99-7b42-42a0-8b19-be3baea207ce"
      },
      "execution_count": null,
      "outputs": [
        {
          "output_type": "display_data",
          "data": {
            "text/plain": [
              "<Figure size 1440x360 with 1 Axes>"
            ],
            "image/png": "[encoded data removed]"
          },
          "metadata": {
            "needs_background": "light"
          }
        }
      ]
    },
    {
      "cell_type": "code",
      "source": [
        "serie_MinTemp_Location = df.groupby('Location')['MinTemp'].mean()"
      ],
      "metadata": {
        "id": "cG38y2sc4JST"
      },
      "execution_count": null,
      "outputs": []
    },
    {
      "cell_type": "code",
      "source": [
        "plt.rcParams[\"figure.figsize\"] = (20, 5)\n",
        "fig, ax = plt.subplots()\n",
        "ax.bar(list_location, serie_MinTemp_Location)\n",
        "ax.set_title('Promedio de temperatura Mínima por Ciudad', loc = \"center\", fontdict = {'fontsize':14, 'fontweight':'bold', 'color':'tab:blue'})\n",
        "ax.set_xlabel(\"Ciudades\", fontdict = {'fontsize':14, 'fontweight':'bold', 'color':'tab:blue'})\n",
        "ax.set_ylabel(\"Temperatura ºC\", fontdict = {'fontsize':14, 'fontweight':'bold', 'color':'tab:blue'})\n",
        "plt.xticks(rotation=90)\n",
        "plt.show()"
      ],
      "metadata": {
        "colab": {
          "base_uri": "https://localhost:8080/",
          "height": 432
        },
        "id": "IL04knVf4Ex9",
        "outputId": "178e7d5f-be1f-4241-e532-1915863a96fc"
      },
      "execution_count": null,
      "outputs": [
        {
          "output_type": "display_data",
          "data": {
            "text/plain": [
              "<Figure size 1440x360 with 1 Axes>"
            ],
            "image/png": "[encoded data removed]"
          },
          "metadata": {
            "needs_background": "light"
          }
        }
      ]
    },
    {
      "cell_type": "code",
      "source": [
        "serie_wind_speed_Location = df.groupby('Location')['WindGustSpeed'].mean()"
      ],
      "metadata": {
        "id": "m1fJbmm74ve3"
      },
      "execution_count": null,
      "outputs": []
    },
    {
      "cell_type": "code",
      "source": [
        "plt.rcParams[\"figure.figsize\"] = (20, 5)\n",
        "fig, ax = plt.subplots()\n",
        "ax.bar(list_location, serie_wind_speed_Location)\n",
        "ax.set_title('Promedio de velocidad del viento por Ciudad', loc = \"center\", fontdict = {'fontsize':14, 'fontweight':'bold', 'color':'tab:blue'})\n",
        "ax.set_xlabel(\"Ciudades\", fontdict = {'fontsize':14, 'fontweight':'bold', 'color':'tab:blue'})\n",
        "ax.set_ylabel(\"Velocidad del viento (km/hr)\", fontdict = {'fontsize':14, 'fontweight':'bold', 'color':'tab:blue'})\n",
        "plt.xticks(rotation=90)\n",
        "plt.show()"
      ],
      "metadata": {
        "colab": {
          "base_uri": "https://localhost:8080/",
          "height": 432
        },
        "id": "dorve8HU43GC",
        "outputId": "447e4ede-310d-451e-fa20-f9c19b7d8c51"
      },
      "execution_count": null,
      "outputs": [
        {
          "output_type": "display_data",
          "data": {
            "text/plain": [
              "<Figure size 1440x360 with 1 Axes>"
            ],
            "image/png": "[encoded data removed]"
          },
          "metadata": {
            "needs_background": "light"
          }
        }
      ]
    },
    {
      "cell_type": "code",
      "source": [
        "serie_Location = df.groupby(by = ['Location'])['RainTomorrow'].value_counts()"
      ],
      "metadata": {
        "id": "13GSb8S-8HMx"
      },
      "execution_count": null,
      "outputs": []
    },
    {
      "cell_type": "code",
      "source": [
        "Arreglo = []\n",
        "Arreglo = serie_Location.index\n",
        "Arreglo_Value = []\n",
        "Arreglo_Value = serie_Location\n",
        "\n",
        "Arreglo_No = []\n",
        "Arreglo_Yes = []\n",
        "\n",
        "for i in Arreglo:\n",
        "  if i[1] == 'No':\n",
        "    Arreglo_No.append(Arreglo_Value[i])\n",
        "  if i[1] == 'Yes':\n",
        "    Arreglo_Yes.append(Arreglo_Value[i])"
      ],
      "metadata": {
        "id": "IPMti3tMYVRG"
      },
      "execution_count": null,
      "outputs": []
    },
    {
      "cell_type": "code",
      "source": [
        "serie_1 = Arreglo_No\n",
        "serie_2 = Arreglo_Yes\n",
        " \n",
        "plt.rcParams[\"figure.figsize\"] = (20, 5)\n",
        "numero_de_grupos = len(list_location)\n",
        "indice_barras = np.arange(numero_de_grupos)\n",
        "ancho_barras =0.35\n",
        "print(df['RainTomorrow'].value_counts())\n",
        "plt.bar(indice_barras, serie_1, width=ancho_barras, label='No Llueve al dia Siguiente')\n",
        "plt.bar(indice_barras + ancho_barras, serie_2, width=ancho_barras, label='Si llueve al dia siguiente')\n",
        "plt.legend(loc='upper right')\n",
        "## Se colocan los indicadores en el eje x\n",
        "plt.xticks(indice_barras + ancho_barras, list_location)\n",
        " \n",
        "plt.ylabel('Cantidad de Registros de lluvia')\n",
        "plt.xlabel('Ciudad')\n",
        "plt.title('Cantidad de lluvias al dia siguiente por ciudad')\n",
        "plt.xticks(rotation=90)\n",
        "plt.show()"
      ],
      "metadata": {
        "colab": {
          "base_uri": "https://localhost:8080/",
          "height": 479
        },
        "id": "jGr4qTDMDWmf",
        "outputId": "338ffa80-c259-4d5b-d245-56d1bf06710f"
      },
      "execution_count": null,
      "outputs": [
        {
          "output_type": "stream",
          "name": "stdout",
          "text": [
            "No     110316\n",
            "Yes     31877\n",
            "Name: RainTomorrow, dtype: int64\n"
          ]
        },
        {
          "output_type": "display_data",
          "data": {
            "text/plain": [
              "<Figure size 1440x360 with 1 Axes>"
            ],
            "image/png": "[encoded data removed]"
          },
          "metadata": {
            "needs_background": "light"
          }
        }
      ]
    },
    {
      "cell_type": "markdown",
      "source": [
        "# Data Preparation\n",
        "\n",
        "En esta tercera etapa, preprocesamos los datos para ser utilizados en los modelos.\n",
        "\n",
        "Acciones a realizar: \n",
        "\n",
        "1.   Limpieza de valores nulos\n",
        "2.   Estandarización de los Datos."
      ],
      "metadata": {
        "id": "3ryTGkYQiU_Q"
      }
    },
    {
      "cell_type": "code",
      "source": [
        "# La siguiente porción de código nos permite filtrar el data set\n",
        "# Nos entrega la cantidad de nulos que tiene cada Característica y la ordena del mayor a menor.\n",
        "list_nulls = df.isnull().sum()\n",
        "list_nulls[(list_nulls>0)].sort_values(ascending = False)"
      ],
      "metadata": {
        "colab": {
          "base_uri": "https://localhost:8080/"
        },
        "id": "53cBBKnzerEE",
        "outputId": "5241ad46-6794-4eee-c518-a84c3027fa87"
      },
      "execution_count": null,
      "outputs": [
        {
          "output_type": "execute_result",
          "data": {
            "text/plain": [
              "Sunshine         67816\n",
              "Evaporation      60843\n",
              "Cloud3pm         57094\n",
              "Cloud9am         53657\n",
              "Pressure9am      14014\n",
              "Pressure3pm      13981\n",
              "WindDir9am       10013\n",
              "WindGustDir       9330\n",
              "WindGustSpeed     9270\n",
              "WindDir3pm        3778\n",
              "Humidity3pm       3610\n",
              "Temp3pm           2726\n",
              "WindSpeed3pm      2630\n",
              "Humidity9am       1774\n",
              "RainToday         1406\n",
              "Rainfall          1406\n",
              "WindSpeed9am      1348\n",
              "Temp9am            904\n",
              "MinTemp            637\n",
              "MaxTemp            322\n",
              "dtype: int64"
            ]
          },
          "metadata": {},
          "execution_count": 24
        }
      ]
    },
    {
      "cell_type": "code",
      "source": [
        "means = round(df.groupby('Location').transform(np.mean),2)\n",
        "df = df.fillna(means)"
      ],
      "metadata": {
        "id": "etoIeAc9gW_6",
        "colab": {
          "base_uri": "https://localhost:8080/"
        },
        "outputId": "833c6d13-579f-4231-af02-591a9573c937"
      },
      "execution_count": null,
      "outputs": [
        {
          "output_type": "stream",
          "name": "stderr",
          "text": [
            "/usr/local/lib/python3.7/dist-packages/ipykernel_launcher.py:1: FutureWarning: Dropping invalid columns in DataFrameGroupBy.transform is deprecated. In a future version, a TypeError will be raised. Before calling .transform, select only columns which should be valid for the transforming function.\n",
            "  \"\"\"Entry point for launching an IPython kernel.\n"
          ]
        }
      ]
    },
    {
      "cell_type": "code",
      "source": [
        "list_nulls = df.isnull().sum()\n",
        "list_nulls[(list_nulls>0)].sort_values(ascending = False)"
      ],
      "metadata": {
        "colab": {
          "base_uri": "https://localhost:8080/"
        },
        "id": "OunDZPadSVMP",
        "outputId": "253587b6-b7c2-46bf-f833-1474937c7120"
      },
      "execution_count": null,
      "outputs": [
        {
          "output_type": "execute_result",
          "data": {
            "text/plain": [
              "Sunshine         52071\n",
              "Evaporation      44261\n",
              "Cloud9am         34034\n",
              "Cloud3pm         34034\n",
              "Pressure9am      14014\n",
              "Pressure3pm      13981\n",
              "WindDir9am       10013\n",
              "WindGustDir       9330\n",
              "WindGustSpeed     5971\n",
              "WindDir3pm        3778\n",
              "RainToday         1406\n",
              "dtype: int64"
            ]
          },
          "metadata": {},
          "execution_count": 26
        }
      ]
    },
    {
      "cell_type": "code",
      "source": [
        "del df['Sunshine']\n",
        "del df['Evaporation']"
      ],
      "metadata": {
        "id": "LOcs4gd5Z8bN"
      },
      "execution_count": null,
      "outputs": []
    },
    {
      "cell_type": "code",
      "source": [
        "df = df.dropna(subset = ['RainToday'])\n",
        "df['WindGustDir'] = df['WindGustDir'].fillna(df['WindGustDir'].mode()[0])\n",
        "df['WindDir9am'] = df['WindDir9am'].fillna(df['WindDir9am'].mode()[0])\n",
        "df['WindDir3pm'] = df['WindDir3pm'].fillna(df['WindDir3pm'].mode()[0])\n",
        "df.fillna(df.mean(), inplace=True)\n",
        "df = df.dropna(axis = 1)"
      ],
      "metadata": {
        "id": "oDoopRTpcbDR",
        "colab": {
          "base_uri": "https://localhost:8080/"
        },
        "outputId": "2637f1a9-bfe7-45a7-b409-9b75938f3961"
      },
      "execution_count": null,
      "outputs": [
        {
          "output_type": "stream",
          "name": "stderr",
          "text": [
            "/usr/local/lib/python3.7/dist-packages/ipykernel_launcher.py:2: SettingWithCopyWarning: \n",
            "A value is trying to be set on a copy of a slice from a DataFrame.\n",
            "Try using .loc[row_indexer,col_indexer] = value instead\n",
            "\n",
            "See the caveats in the documentation: https://pandas.pydata.org/pandas-docs/stable/user_guide/indexing.html#returning-a-view-versus-a-copy\n",
            "  \n",
            "/usr/local/lib/python3.7/dist-packages/ipykernel_launcher.py:3: SettingWithCopyWarning: \n",
            "A value is trying to be set on a copy of a slice from a DataFrame.\n",
            "Try using .loc[row_indexer,col_indexer] = value instead\n",
            "\n",
            "See the caveats in the documentation: https://pandas.pydata.org/pandas-docs/stable/user_guide/indexing.html#returning-a-view-versus-a-copy\n",
            "  This is separate from the ipykernel package so we can avoid doing imports until\n",
            "/usr/local/lib/python3.7/dist-packages/ipykernel_launcher.py:4: SettingWithCopyWarning: \n",
            "A value is trying to be set on a copy of a slice from a DataFrame.\n",
            "Try using .loc[row_indexer,col_indexer] = value instead\n",
            "\n",
            "See the caveats in the documentation: https://pandas.pydata.org/pandas-docs/stable/user_guide/indexing.html#returning-a-view-versus-a-copy\n",
            "  after removing the cwd from sys.path.\n",
            "/usr/local/lib/python3.7/dist-packages/ipykernel_launcher.py:5: FutureWarning: Dropping of nuisance columns in DataFrame reductions (with 'numeric_only=None') is deprecated; in a future version this will raise TypeError.  Select only valid columns before calling the reduction.\n",
            "  \"\"\"\n"
          ]
        }
      ]
    },
    {
      "cell_type": "code",
      "source": [
        "list_nulls = df.isnull().sum()\n",
        "list_nulls[(list_nulls>0)].sort_values(ascending = False)"
      ],
      "metadata": {
        "colab": {
          "base_uri": "https://localhost:8080/"
        },
        "id": "cPjBxQMs3ay-",
        "outputId": "39db9bd9-cc33-46ad-dad4-5bdbbea92b66"
      },
      "execution_count": null,
      "outputs": [
        {
          "output_type": "execute_result",
          "data": {
            "text/plain": [
              "Series([], dtype: int64)"
            ]
          },
          "metadata": {},
          "execution_count": 29
        }
      ]
    },
    {
      "cell_type": "code",
      "source": [
        "df.info()"
      ],
      "metadata": {
        "colab": {
          "base_uri": "https://localhost:8080/"
        },
        "id": "gLB6lPe9mLda",
        "outputId": "82eaa4c0-019b-4493-e176-6453aa03dc86"
      },
      "execution_count": null,
      "outputs": [
        {
          "output_type": "stream",
          "name": "stdout",
          "text": [
            "<class 'pandas.core.frame.DataFrame'>\n",
            "Int64Index: 140787 entries, 0 to 142192\n",
            "Data columns (total 20 columns):\n",
            " #   Column         Non-Null Count   Dtype  \n",
            "---  ------         --------------   -----  \n",
            " 0   Date           140787 non-null  object \n",
            " 1   Location       140787 non-null  object \n",
            " 2   MinTemp        140787 non-null  float64\n",
            " 3   MaxTemp        140787 non-null  float64\n",
            " 4   Rainfall       140787 non-null  float64\n",
            " 5   WindGustDir    140787 non-null  object \n",
            " 6   WindGustSpeed  140787 non-null  float64\n",
            " 7   WindDir9am     140787 non-null  object \n",
            " 8   WindDir3pm     140787 non-null  object \n",
            " 9   WindSpeed9am   140787 non-null  float64\n",
            " 10  WindSpeed3pm   140787 non-null  float64\n",
            " 11  Humidity9am    140787 non-null  float64\n",
            " 12  Humidity3pm    140787 non-null  float64\n",
            " 13  Cloud9am       140787 non-null  float64\n",
            " 14  Cloud3pm       140787 non-null  float64\n",
            " 15  Temp9am        140787 non-null  float64\n",
            " 16  Temp3pm        140787 non-null  float64\n",
            " 17  RainToday      140787 non-null  object \n",
            " 18  RISK_MM        140787 non-null  float64\n",
            " 19  RainTomorrow   140787 non-null  object \n",
            "dtypes: float64(13), object(7)\n",
            "memory usage: 22.6+ MB\n"
          ]
        }
      ]
    },
    {
      "cell_type": "markdown",
      "source": [
        "En este punto, Exportaremos los datos para ser usados en Power Bi antes de Estandarizar."
      ],
      "metadata": {
        "id": "yb_Qo0-k9rdB"
      }
    },
    {
      "cell_type": "code",
      "source": [
        "df.to_csv('australia.csv', sep=';')"
      ],
      "metadata": {
        "id": "fDcnX_0U9jq_"
      },
      "execution_count": null,
      "outputs": []
    },
    {
      "cell_type": "code",
      "source": [
        "del df['Date']"
      ],
      "metadata": {
        "id": "6gZ_O9NW9i0v"
      },
      "execution_count": null,
      "outputs": []
    },
    {
      "cell_type": "code",
      "source": [
        "pip install category_encoders"
      ],
      "metadata": {
        "colab": {
          "base_uri": "https://localhost:8080/"
        },
        "id": "XzdAiMqXomJl",
        "outputId": "3c0e9928-d825-4e87-b07b-ad4aacdef8b3"
      },
      "execution_count": null,
      "outputs": [
        {
          "output_type": "stream",
          "name": "stdout",
          "text": [
            "Looking in indexes: https://pypi.org/simple, https://us-python.pkg.dev/colab-wheels/public/simple/\n",
            "Requirement already satisfied: category_encoders in /usr/local/lib/python3.7/dist-packages (2.4.1)\n",
            "Requirement already satisfied: numpy>=1.14.0 in /usr/local/lib/python3.7/dist-packages (from category_encoders) (1.21.6)\n",
            "Requirement already satisfied: scipy>=1.0.0 in /usr/local/lib/python3.7/dist-packages (from category_encoders) (1.4.1)\n",
            "Requirement already satisfied: statsmodels>=0.9.0 in /usr/local/lib/python3.7/dist-packages (from category_encoders) (0.10.2)\n",
            "Requirement already satisfied: pandas>=0.21.1 in /usr/local/lib/python3.7/dist-packages (from category_encoders) (1.3.5)\n",
            "Requirement already satisfied: scikit-learn>=0.20.0 in /usr/local/lib/python3.7/dist-packages (from category_encoders) (1.0.2)\n",
            "Requirement already satisfied: patsy>=0.5.1 in /usr/local/lib/python3.7/dist-packages (from category_encoders) (0.5.2)\n",
            "Requirement already satisfied: pytz>=2017.3 in /usr/local/lib/python3.7/dist-packages (from pandas>=0.21.1->category_encoders) (2022.1)\n",
            "Requirement already satisfied: python-dateutil>=2.7.3 in /usr/local/lib/python3.7/dist-packages (from pandas>=0.21.1->category_encoders) (2.8.2)\n",
            "Requirement already satisfied: six in /usr/local/lib/python3.7/dist-packages (from patsy>=0.5.1->category_encoders) (1.15.0)\n",
            "Requirement already satisfied: threadpoolctl>=2.0.0 in /usr/local/lib/python3.7/dist-packages (from scikit-learn>=0.20.0->category_encoders) (3.1.0)\n",
            "Requirement already satisfied: joblib>=0.11 in /usr/local/lib/python3.7/dist-packages (from scikit-learn>=0.20.0->category_encoders) (1.1.0)\n"
          ]
        }
      ]
    },
    {
      "cell_type": "code",
      "source": [
        "from category_encoders import BinaryEncoder\n",
        "\n",
        "target_risk = df['MaxTemp']\n",
        "target_Tomorrow = df['RainTomorrow'].replace({'No': 0, 'Yes':1})\n",
        "\n",
        "\n",
        "df = df.drop(['MaxTemp', 'RainTomorrow'], axis = 1)\n",
        "\n",
        "\n",
        "\n",
        "columnas_numeric = df.select_dtypes(include=['float64']).columns.to_list()\n",
        "columna_binary = []\n",
        "columna_binary.append(df.columns.values[0])\n",
        "columna_binary.append(df.columns.values[3])\n",
        "columna_binary.append(df.columns.values[5])\n",
        "columna_binary.append(df.columns.values[6])\n",
        "\n",
        "columna_onehot = []\n",
        "columna_onehot.append(df.columns.values[15])"
      ],
      "metadata": {
        "id": "yIRWOfo4tITh"
      },
      "execution_count": null,
      "outputs": []
    },
    {
      "cell_type": "code",
      "source": [
        "from sklearn.preprocessing import StandardScaler\n",
        "from sklearn.preprocessing import OneHotEncoder\n",
        "from sklearn.compose import ColumnTransformer\n",
        "from category_encoders import BinaryEncoder\n",
        "\n",
        "preprocessor = ColumnTransformer(\n",
        "                   [('scale', StandardScaler(), columnas_numeric),\n",
        "                    ('onehot', OneHotEncoder(), columna_onehot),\n",
        "                    ('binary', BinaryEncoder(), columna_binary)],\n",
        "                remainder='passthrough')"
      ],
      "metadata": {
        "id": "NeuwHbzyvHoi"
      },
      "execution_count": null,
      "outputs": []
    },
    {
      "cell_type": "code",
      "source": [
        "df1 = preprocessor.fit_transform(df)"
      ],
      "metadata": {
        "id": "BhbMsYGJQoLy"
      },
      "execution_count": null,
      "outputs": []
    },
    {
      "cell_type": "code",
      "source": [
        "decodificar_nombre = preprocessor.named_transformers_['onehot'].get_feature_names(columna_onehot)\n",
        "nombre_columnas = np.concatenate([columnas_numeric, decodificar_nombre, preprocessor.named_transformers_[\"binary\"].get_feature_names()])\n",
        "Datos_train_prep = preprocessor.transform(df)\n",
        "df = pd.DataFrame(Datos_train_prep, columns=nombre_columnas)\n",
        "df.info()"
      ],
      "metadata": {
        "colab": {
          "base_uri": "https://localhost:8080/"
        },
        "id": "3eFETenPQigw",
        "outputId": "f021fbc9-976b-466c-d6c0-5eaa95b80c43"
      },
      "execution_count": null,
      "outputs": [
        {
          "output_type": "stream",
          "name": "stderr",
          "text": [
            "/usr/local/lib/python3.7/dist-packages/sklearn/utils/deprecation.py:87: FutureWarning: Function get_feature_names is deprecated; get_feature_names is deprecated in 1.0 and will be removed in 1.2. Please use get_feature_names_out instead.\n",
            "  warnings.warn(msg, category=FutureWarning)\n"
          ]
        },
        {
          "output_type": "stream",
          "name": "stdout",
          "text": [
            "<class 'pandas.core.frame.DataFrame'>\n",
            "RangeIndex: 140787 entries, 0 to 140786\n",
            "Data columns (total 35 columns):\n",
            " #   Column         Non-Null Count   Dtype  \n",
            "---  ------         --------------   -----  \n",
            " 0   MinTemp        140787 non-null  float64\n",
            " 1   Rainfall       140787 non-null  float64\n",
            " 2   WindGustSpeed  140787 non-null  float64\n",
            " 3   WindSpeed9am   140787 non-null  float64\n",
            " 4   WindSpeed3pm   140787 non-null  float64\n",
            " 5   Humidity9am    140787 non-null  float64\n",
            " 6   Humidity3pm    140787 non-null  float64\n",
            " 7   Cloud9am       140787 non-null  float64\n",
            " 8   Cloud3pm       140787 non-null  float64\n",
            " 9   Temp9am        140787 non-null  float64\n",
            " 10  Temp3pm        140787 non-null  float64\n",
            " 11  RISK_MM        140787 non-null  float64\n",
            " 12  RainToday_No   140787 non-null  float64\n",
            " 13  RainToday_Yes  140787 non-null  float64\n",
            " 14  Location_0     140787 non-null  float64\n",
            " 15  Location_1     140787 non-null  float64\n",
            " 16  Location_2     140787 non-null  float64\n",
            " 17  Location_3     140787 non-null  float64\n",
            " 18  Location_4     140787 non-null  float64\n",
            " 19  Location_5     140787 non-null  float64\n",
            " 20  WindGustDir_0  140787 non-null  float64\n",
            " 21  WindGustDir_1  140787 non-null  float64\n",
            " 22  WindGustDir_2  140787 non-null  float64\n",
            " 23  WindGustDir_3  140787 non-null  float64\n",
            " 24  WindGustDir_4  140787 non-null  float64\n",
            " 25  WindDir9am_0   140787 non-null  float64\n",
            " 26  WindDir9am_1   140787 non-null  float64\n",
            " 27  WindDir9am_2   140787 non-null  float64\n",
            " 28  WindDir9am_3   140787 non-null  float64\n",
            " 29  WindDir9am_4   140787 non-null  float64\n",
            " 30  WindDir3pm_0   140787 non-null  float64\n",
            " 31  WindDir3pm_1   140787 non-null  float64\n",
            " 32  WindDir3pm_2   140787 non-null  float64\n",
            " 33  WindDir3pm_3   140787 non-null  float64\n",
            " 34  WindDir3pm_4   140787 non-null  float64\n",
            "dtypes: float64(35)\n",
            "memory usage: 37.6 MB\n"
          ]
        }
      ]
    },
    {
      "cell_type": "markdown",
      "source": [
        "# Modelling\n",
        "\n",
        "En esta fase, se seleccionan y aplican las técnicas de modelado que sean pertinentes al problema (cuantas más mejor), y se calibran sus parámetros a valores óptimos. Típicamente hay varias técnicas para el mismo tipo de problema de minería de datos. "
      ],
      "metadata": {
        "id": "MGEgpgZ68_Ed"
      }
    },
    {
      "cell_type": "code",
      "source": [
        "#Importaciones\n",
        "\n",
        "from sklearn.model_selection import train_test_split\n",
        "\n",
        "#modelos de Clasificación\n",
        "from sklearn.ensemble import RandomForestClassifier\n",
        "from sklearn.neighbors import KNeighborsClassifier\n",
        "from sklearn.svm import SVC\n",
        "\n",
        "#Metricas para Clasificación\n",
        "from sklearn.metrics import classification_report\n",
        "from sklearn.metrics import confusion_matrix\n",
        "from sklearn.metrics import roc_auc_score\n",
        "\n",
        "#Modelos de Regresión\n",
        "from sklearn.neighbors import KNeighborsRegressor\n",
        "from sklearn.ensemble import RandomForestRegressor\n",
        "from sklearn.svm import SVR\n",
        "from sklearn.linear_model import LinearRegression\n",
        "from sklearn.ensemble import GradientBoostingRegressor\n",
        "#Metricas para la regresión\n",
        "from sklearn.metrics import r2_score\n",
        "from sklearn.metrics import mean_squared_error\n",
        "from sklearn.metrics import mean_absolute_error\n",
        "from math import sqrt\n",
        "\n",
        "import seaborn as sns\n",
        "features = df"
      ],
      "metadata": {
        "id": "rLAXXTmbGejj"
      },
      "execution_count": null,
      "outputs": []
    },
    {
      "cell_type": "code",
      "source": [
        "LABELS = [\"0\",\"1\"]\n",
        "def mostrar_resultados(y_test, pred_y):\n",
        "    conf_matrix = confusion_matrix(y_test, pred_y)\n",
        "    plt.figure(figsize=(8, 8))\n",
        "    sns.heatmap(conf_matrix, xticklabels=LABELS, yticklabels=LABELS, annot=True, fmt=\"d\");\n",
        "    plt.title(\"Confusion matrix\")\n",
        "    plt.ylabel('True class')\n",
        "    plt.xlabel('Predicted class')\n",
        "    plt.show()\n",
        "    print (classification_report(y_test, pred_y))"
      ],
      "metadata": {
        "id": "QxW9PQv6OP9a"
      },
      "execution_count": null,
      "outputs": []
    },
    {
      "cell_type": "markdown",
      "source": [
        "Realizamos Separación del DataFrame en Train y Test con El Target que utilizaremos en Clasificación y veremos las metricas que nos entregan los modelos.\n",
        "\n",
        "Modelos a utilizar: RandomForestClassifier(), SVC(), K-Neighbors()\n",
        "\n",
        "Target: RainTomorrow"
      ],
      "metadata": {
        "id": "BynIkI-xMVH6"
      }
    },
    {
      "cell_type": "markdown",
      "source": [
        "  MODELOS DE CLASIFICACIÓN"
      ],
      "metadata": {
        "id": "mCYU-jdQAT6B"
      }
    },
    {
      "cell_type": "code",
      "source": [
        "#Split para el target RainTomorrow\n",
        "\n",
        "X_train, X_test, y_train, y_test = train_test_split(\n",
        "                                        df,\n",
        "                                        target_Tomorrow,\n",
        "                                        train_size   = 0.8,\n",
        "                                        random_state = 1234,\n",
        "                                        shuffle      = True\n",
        "                                    )"
      ],
      "metadata": {
        "id": "Whu0MaL0B2Wf"
      },
      "execution_count": null,
      "outputs": []
    },
    {
      "cell_type": "code",
      "source": [
        "#modelo RandomForestClassifier\n",
        "ModeloRandomForest = RandomForestClassifier(n_estimators = 1000)\n",
        "ModeloRandomForest.fit(X_train,y_train)\n",
        "print(ModeloRandomForest.score(X_test,y_test))"
      ],
      "metadata": {
        "colab": {
          "base_uri": "https://localhost:8080/"
        },
        "id": "RS-RM1FSjBQa",
        "outputId": "f4d7d572-9c73-4b29-b2c7-5b7fa194069c"
      },
      "execution_count": null,
      "outputs": [
        {
          "output_type": "stream",
          "name": "stdout",
          "text": [
            "0.8535762483130904\n"
          ]
        }
      ]
    },
    {
      "cell_type": "code",
      "source": [
        "pred_y_Random = ModeloRandomForest.predict(X_test)\n",
        "mostrar_resultados(y_test, pred_y_Random)"
      ],
      "metadata": {
        "colab": {
          "base_uri": "https://localhost:8080/",
          "height": 669
        },
        "id": "5dkoIZxol1Ih",
        "outputId": "ff468f5e-2960-44f2-a612-9cbb0855fcbe"
      },
      "execution_count": null,
      "outputs": [
        {
          "output_type": "display_data",
          "data": {
            "text/plain": [
              "<Figure size 576x576 with 2 Axes>"
            ],
            "image/png": "[encoded data removed]"
          },
          "metadata": {
            "needs_background": "light"
          }
        },
        {
          "output_type": "stream",
          "name": "stdout",
          "text": [
            "              precision    recall  f1-score   support\n",
            "\n",
            "           0       0.87      0.96      0.91     21880\n",
            "           1       0.78      0.48      0.59      6278\n",
            "\n",
            "    accuracy                           0.85     28158\n",
            "   macro avg       0.82      0.72      0.75     28158\n",
            "weighted avg       0.85      0.85      0.84     28158\n",
            "\n"
          ]
        }
      ]
    },
    {
      "cell_type": "code",
      "source": [
        "roc_score_random = roc_auc_score(y_test,pred_y_Random)\n",
        "print(roc_score_random)"
      ],
      "metadata": {
        "colab": {
          "base_uri": "https://localhost:8080/"
        },
        "id": "3hGbWWIDmkTM",
        "outputId": "8812db85-8afa-420f-f69f-d2c2c64df02a"
      },
      "execution_count": null,
      "outputs": [
        {
          "output_type": "stream",
          "name": "stdout",
          "text": [
            "0.7196197233833014\n"
          ]
        }
      ]
    },
    {
      "cell_type": "code",
      "source": [
        "#modelo KNeighborsClassifier\n",
        "ModeloKNeighbors = KNeighborsClassifier()\n",
        "ModeloKNeighbors.fit(X_train,y_train)\n",
        "print(ModeloKNeighbors.score(X_test,y_test))"
      ],
      "metadata": {
        "colab": {
          "base_uri": "https://localhost:8080/"
        },
        "id": "qOg1oltRkTEL",
        "outputId": "e764190e-735d-4ffd-cb15-2d3f8c201661"
      },
      "execution_count": null,
      "outputs": [
        {
          "output_type": "stream",
          "name": "stdout",
          "text": [
            "0.8340436110519213\n"
          ]
        }
      ]
    },
    {
      "cell_type": "code",
      "source": [
        "pred_y_kneighbors = ModeloKNeighbors.predict(X_test)\n",
        "mostrar_resultados(y_test, pred_y_kneighbors)"
      ],
      "metadata": {
        "colab": {
          "base_uri": "https://localhost:8080/",
          "height": 669
        },
        "id": "YwSsqU3Yl5Q7",
        "outputId": "72c890a5-db71-4f5f-b441-05e5e364c738"
      },
      "execution_count": null,
      "outputs": [
        {
          "output_type": "display_data",
          "data": {
            "text/plain": [
              "<Figure size 576x576 with 2 Axes>"
            ],
            "image/png": "[encoded data removed]"
          },
          "metadata": {
            "needs_background": "light"
          }
        },
        {
          "output_type": "stream",
          "name": "stdout",
          "text": [
            "              precision    recall  f1-score   support\n",
            "\n",
            "           0       0.86      0.94      0.90     21880\n",
            "           1       0.69      0.46      0.55      6278\n",
            "\n",
            "    accuracy                           0.83     28158\n",
            "   macro avg       0.78      0.70      0.72     28158\n",
            "weighted avg       0.82      0.83      0.82     28158\n",
            "\n"
          ]
        }
      ]
    },
    {
      "cell_type": "code",
      "source": [
        "roc_score_kneighbors = roc_auc_score(y_test,pred_y_kneighbors)\n",
        "print(roc_score_kneighbors)"
      ],
      "metadata": {
        "colab": {
          "base_uri": "https://localhost:8080/"
        },
        "id": "kev976bQmnud",
        "outputId": "cde629d5-22eb-497c-80d4-758ba49dc097"
      },
      "execution_count": null,
      "outputs": [
        {
          "output_type": "stream",
          "name": "stdout",
          "text": [
            "0.6999522577609167\n"
          ]
        }
      ]
    },
    {
      "cell_type": "code",
      "source": [
        "#modelo SVC rbf\n",
        "ModeloSVCrbf = SVC(kernel='rbf', C=1, class_weight=\"balanced\")\n",
        "ModeloSVCrbf.fit(X_train,y_train)\n",
        "print(ModeloSVCrbf.score(X_test,y_test))"
      ],
      "metadata": {
        "colab": {
          "base_uri": "https://localhost:8080/"
        },
        "id": "pNGuV8HKkrgD",
        "outputId": "409abcf9-3f37-4799-e8fa-07400d616410"
      },
      "execution_count": null,
      "outputs": [
        {
          "output_type": "stream",
          "name": "stdout",
          "text": [
            "0.8100007102777186\n"
          ]
        }
      ]
    },
    {
      "cell_type": "code",
      "source": [
        "pred_y_SVCrbf = ModeloSVCrbf.predict(X_test)\n",
        "mostrar_resultados(y_test, pred_y_SVCrbf)"
      ],
      "metadata": {
        "colab": {
          "base_uri": "https://localhost:8080/",
          "height": 669
        },
        "id": "YUEHCIJ5mAlb",
        "outputId": "02b22b5d-c7c7-4b34-836a-c6a41c897c54"
      },
      "execution_count": null,
      "outputs": [
        {
          "output_type": "display_data",
          "data": {
            "text/plain": [
              "<Figure size 576x576 with 2 Axes>"
            ],
            "image/png": "[encoded data removed]"
          },
          "metadata": {
            "needs_background": "light"
          }
        },
        {
          "output_type": "stream",
          "name": "stdout",
          "text": [
            "              precision    recall  f1-score   support\n",
            "\n",
            "           0       0.92      0.82      0.87     21880\n",
            "           1       0.55      0.77      0.64      6278\n",
            "\n",
            "    accuracy                           0.81     28158\n",
            "   macro avg       0.74      0.79      0.76     28158\n",
            "weighted avg       0.84      0.81      0.82     28158\n",
            "\n"
          ]
        }
      ]
    },
    {
      "cell_type": "markdown",
      "source": [
        "MODELOS DE REGRESIÓN"
      ],
      "metadata": {
        "id": "PEAWKJ93mzqw"
      }
    },
    {
      "cell_type": "code",
      "source": [
        "def metricas_regresion(y_test, y_tongo):\n",
        "  print(\"Error medio cuadrado         :\", mean_squared_error(y_test, y_tongo))\n",
        "  print(\"Raiz de Error medio cuadrado :\", sqrt(mean_squared_error(y_test, y_tongo)))\n",
        "  print(\"R² Cuadrado                  :\", r2_score(y_test, y_tongo))\n",
        "  print(\"Error Medio Absoluto         :\", mean_absolute_error(y_test, y_tongo))\n",
        "  "
      ],
      "metadata": {
        "id": "fOE_gQwJJlMo"
      },
      "execution_count": null,
      "outputs": []
    },
    {
      "cell_type": "code",
      "source": [
        "df = df[['MinTemp','Temp9am', 'Temp3pm']]\n",
        "\n",
        "#Split para el target RISK_MM\n",
        "\n",
        "X_train, X_test, y_train, y_test = train_test_split(\n",
        "                                        df,\n",
        "                                        target_risk,\n",
        "                                        train_size   = 0.8,\n",
        "                                        random_state = 1234,\n",
        "                                        shuffle      = True\n",
        "                                    )"
      ],
      "metadata": {
        "id": "u97PIbvnR4Pd"
      },
      "execution_count": null,
      "outputs": []
    },
    {
      "cell_type": "code",
      "source": [
        "modelo_linear_regressor = LinearRegression()\n",
        "modelo_linear_regressor.fit(X_train,y_train)"
      ],
      "metadata": {
        "colab": {
          "base_uri": "https://localhost:8080/"
        },
        "id": "X4RFcS2uIs6B",
        "outputId": "35da3ac9-e915-4f48-eb84-75dd409fa20b"
      },
      "execution_count": null,
      "outputs": [
        {
          "output_type": "execute_result",
          "data": {
            "text/plain": [
              "LinearRegression()"
            ]
          },
          "metadata": {},
          "execution_count": 122
        }
      ]
    },
    {
      "cell_type": "code",
      "source": [
        "y_tongo_linear_regressor = modelo_linear_regressor.predict(X_test)\n",
        "metricas_regresion(y_test,y_tongo_linear_regressor) "
      ],
      "metadata": {
        "colab": {
          "base_uri": "https://localhost:8080/"
        },
        "id": "isY8OY9eK0Tb",
        "outputId": "e0d84a72-cec2-4932-d88d-c894e35efd83"
      },
      "execution_count": null,
      "outputs": [
        {
          "output_type": "stream",
          "name": "stdout",
          "text": [
            "Error medio cuadrado         : 1.516835631453535\n",
            "Raiz de Error medio cuadrado : 1.2315988110799454\n",
            "R² Cuadrado                  : 0.9700369750781845\n",
            "Error Medio Absoluto         : 0.8229113875870372\n"
          ]
        }
      ]
    },
    {
      "cell_type": "code",
      "source": [
        "modelo_random_forest_regressor = RandomForestRegressor()\n",
        "modelo_random_forest_regressor.fit(X_train,y_train)"
      ],
      "metadata": {
        "colab": {
          "base_uri": "https://localhost:8080/"
        },
        "id": "Ala37KL3JJcB",
        "outputId": "7c9b6aa7-9f43-43e0-a847-be110a873b98"
      },
      "execution_count": null,
      "outputs": [
        {
          "output_type": "execute_result",
          "data": {
            "text/plain": [
              "RandomForestRegressor()"
            ]
          },
          "metadata": {},
          "execution_count": 124
        }
      ]
    },
    {
      "cell_type": "code",
      "source": [
        "y_tongo_RandomForestRegressor = modelo_random_forest_regressor.predict(X_test)\n",
        "metricas_regresion(y_test,y_tongo_RandomForestRegressor) "
      ],
      "metadata": {
        "colab": {
          "base_uri": "https://localhost:8080/"
        },
        "id": "auUOQEbUP8Z1",
        "outputId": "c4a8b682-16f2-4744-cfc4-0875e86edba3"
      },
      "execution_count": null,
      "outputs": [
        {
          "output_type": "stream",
          "name": "stdout",
          "text": [
            "Error medio cuadrado         : 1.2342586182830861\n",
            "Raiz de Error medio cuadrado : 1.1109719250652044\n",
            "R² Cuadrado                  : 0.9756188996535222\n",
            "Error Medio Absoluto         : 0.7648325423742137\n"
          ]
        }
      ]
    },
    {
      "cell_type": "code",
      "source": [
        "modelo_GradientBoostingRegressor = GradientBoostingRegressor()\n",
        "modelo_GradientBoostingRegressor.fit(X_train,y_train)"
      ],
      "metadata": {
        "colab": {
          "base_uri": "https://localhost:8080/"
        },
        "id": "swjUQRfLJJ06",
        "outputId": "fac411c7-e13a-4d60-e2bf-30e92cf4fa5e"
      },
      "execution_count": null,
      "outputs": [
        {
          "output_type": "execute_result",
          "data": {
            "text/plain": [
              "GradientBoostingRegressor()"
            ]
          },
          "metadata": {},
          "execution_count": 126
        }
      ]
    },
    {
      "cell_type": "code",
      "source": [
        "y_tongo_GradientBoostingRegressor = modelo_GradientBoostingRegressor.predict(X_test)\n",
        "metricas_regresion(y_test,y_tongo_GradientBoostingRegressor) "
      ],
      "metadata": {
        "colab": {
          "base_uri": "https://localhost:8080/"
        },
        "id": "Xj-uYEX6QDIO",
        "outputId": "e7bf34c9-d106-475f-c5d7-b6557912a329"
      },
      "execution_count": null,
      "outputs": [
        {
          "output_type": "stream",
          "name": "stdout",
          "text": [
            "Error medio cuadrado         : 1.2069403818962319\n",
            "Raiz de Error medio cuadrado : 1.0986083842280796\n",
            "R² Cuadrado                  : 0.9761585342590826\n",
            "Error Medio Absoluto         : 0.732093770829632\n"
          ]
        }
      ]
    },
    {
      "cell_type": "code",
      "source": [
        "modelo_SVR = SVR()\n",
        "modelo_SVR.fit(X_train,y_train)"
      ],
      "metadata": {
        "colab": {
          "base_uri": "https://localhost:8080/"
        },
        "id": "2IjPGCJZJd9p",
        "outputId": "b154dd08-00ee-470c-94dd-699ea828eb93"
      },
      "execution_count": null,
      "outputs": [
        {
          "output_type": "execute_result",
          "data": {
            "text/plain": [
              "SVR()"
            ]
          },
          "metadata": {},
          "execution_count": 128
        }
      ]
    },
    {
      "cell_type": "code",
      "source": [
        "y_tongo_SVR = modelo_SVR.predict(X_test)\n",
        "metricas_regresion(y_test,y_tongo_SVR) "
      ],
      "metadata": {
        "colab": {
          "base_uri": "https://localhost:8080/"
        },
        "id": "BsELsXAFQIpL",
        "outputId": "3f2a4945-18ad-4ea4-a83f-e7147b15e8fa"
      },
      "execution_count": null,
      "outputs": [
        {
          "output_type": "stream",
          "name": "stdout",
          "text": [
            "Error medio cuadrado         : 1.244504896679347\n",
            "Raiz de Error medio cuadrado : 1.11557379705663\n",
            "R² Cuadrado                  : 0.9754164983592905\n",
            "Error Medio Absoluto         : 0.7024778191747797\n"
          ]
        }
      ]
    },
    {
      "cell_type": "code",
      "source": [
        "modelo_kneighbors_regressor = KNeighborsRegressor()\n",
        "modelo_kneighbors_regressor.fit(X_train,y_train)"
      ],
      "metadata": {
        "colab": {
          "base_uri": "https://localhost:8080/"
        },
        "id": "DDeCNZ9XVIMJ",
        "outputId": "7e417179-a8d3-4aba-8eab-34bbdb96ae80"
      },
      "execution_count": null,
      "outputs": [
        {
          "output_type": "execute_result",
          "data": {
            "text/plain": [
              "KNeighborsRegressor()"
            ]
          },
          "metadata": {},
          "execution_count": 130
        }
      ]
    },
    {
      "cell_type": "code",
      "source": [
        "y_tongo_KNeighborsRegressor = modelo_kneighbors_regressor.predict(X_test)\n",
        "metricas_regresion(y_test,y_tongo_KNeighborsRegressor) "
      ],
      "metadata": {
        "colab": {
          "base_uri": "https://localhost:8080/"
        },
        "id": "kS2G5IQxVPWp",
        "outputId": "b11c5c05-5630-4efe-abaf-378be8cbe5fd"
      },
      "execution_count": null,
      "outputs": [
        {
          "output_type": "stream",
          "name": "stdout",
          "text": [
            "Error medio cuadrado         : 1.3336338593650117\n",
            "Raiz de Error medio cuadrado : 1.154830662636307\n",
            "R² Cuadrado                  : 0.9736558769215893\n",
            "Error Medio Absoluto         : 0.7832885148092904\n"
          ]
        }
      ]
    }
  ]
}